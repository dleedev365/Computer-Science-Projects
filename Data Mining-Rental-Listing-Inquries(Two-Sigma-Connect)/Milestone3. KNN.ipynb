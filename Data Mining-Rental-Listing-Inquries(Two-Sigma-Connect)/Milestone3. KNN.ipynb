{
 "cells": [
  {
   "cell_type": "code",
   "execution_count": 1,
   "metadata": {},
   "outputs": [],
   "source": [
    "%matplotlib inline\n",
    "import pandas as pd\n",
    "import matplotlib.pyplot as plt\n",
    "from sklearn.feature_extraction.text import CountVectorizer\n",
    "from sklearn.model_selection import KFold\n",
    "import seaborn as sns\n",
    "from sklearn.model_selection import cross_val_score\n",
    "import re\n",
    "from scipy import stats\n",
    "from sklearn import decomposition, datasets\n",
    "from sklearn.pipeline import Pipeline\n",
    "import numpy as np\n",
    "from sklearn.preprocessing import LabelEncoder\n",
    "from sklearn.model_selection import StratifiedKFold\n",
    "import time\n",
    "from datetime import datetime"
   ]
  },
  {
   "cell_type": "code",
   "execution_count": 2,
   "metadata": {},
   "outputs": [],
   "source": [
    "df2 = pd.read_json(\"./dataset/train.json\")"
   ]
  },
  {
   "cell_type": "code",
   "execution_count": 3,
   "metadata": {},
   "outputs": [],
   "source": [
    "# Remove Outliers and Drop Empty Fields\n",
    "newdf2 = df2[(df2['description'] != '') & (df2['description'] != '<p><a  website_redacted')]\n",
    "newdf2 = newdf2[newdf2['display_address'] != '']\n",
    "newdf2 = newdf2[newdf2['features'].str.len() > 0]\n",
    "newdf2 = newdf2[(newdf2['interest_level'] == 'low') | (newdf2['interest_level'] == 'medium') | (newdf2['interest_level'] == 'high')]\n",
    "newdf2 = newdf2[(newdf2['price'] != 10) & (newdf2['price'] != 0)]\n",
    "newdf2 = newdf2[newdf2['latitude'] != 0]\n",
    "newdf2 = newdf2[newdf2['longitude'] != 0]\n",
    "newdf2 = newdf2[newdf2['photos'].str.len() > 0]\n",
    "newdf2 = newdf2[newdf2['street_address'].str.len() > 0]\n",
    "\n",
    "newdf2 = newdf2[(np.abs(stats.zscore(newdf2['bathrooms'])) < 3)]\n",
    "newdf2 = newdf2[(np.abs(stats.zscore(newdf2['bedrooms'])) < 3)]\n",
    "newdf2 = newdf2[(np.abs(stats.zscore(newdf2['latitude'])) < 3)]\n",
    "newdf2 = newdf2[(np.abs(stats.zscore(newdf2['longitude'])) < 3)]\n",
    "newdf2 = newdf2[(np.abs(stats.zscore(newdf2['price'])) < 3)]"
   ]
  },
  {
   "cell_type": "code",
   "execution_count": 4,
   "metadata": {},
   "outputs": [],
   "source": [
    "def convert_dt_numeric(dataframe):\n",
    "    datetime_float = []\n",
    "    dct = {}\n",
    "    indexes = list(dataframe.index.values.tolist())\n",
    "    text_features_count = []\n",
    "    \n",
    "    for index in indexes:\n",
    "        # counting total # of features\n",
    "        if 'features' in dataframe:\n",
    "            values = list(dataframe['features'][index])\n",
    "            text_features_count.append(len(values))\n",
    "        \n",
    "        # converting time to float\n",
    "        if 'created' in dataframe:\n",
    "            datetime_obj = datetime.strptime(dataframe['created'][index], '%Y-%m-%d %H:%M:%S') \n",
    "            datetime_sec = time.mktime(datetime_obj.timetuple())\n",
    "            datetime_float.append(datetime_sec)\n",
    "    #     Convert float to datetime obj\n",
    "    #     datetime_obj_after = datetime.fromtimestamp(datetime_sec) \n",
    "    #     print(datetime_obj, \"=>\", datetime_sec, \"=>\", datetime_obj_after)\n",
    "    #     print(type(datetime_sec)) // float\n",
    "    # dct\n",
    "    if 'features' in dataframe:\n",
    "        dataframe['text_features_count'] = text_features_count\n",
    "    if 'created' in dataframe:\n",
    "        dataframe['datetime_float'] = datetime_float\n",
    "\n",
    "    # label interest_level => row : 2, medium : 1, high : 0\n",
    "    if 'interest_level' in dataframe:\n",
    "        lb_make = LabelEncoder()\n",
    "        dataframe[\"interest_level_code\"] = lb_make.fit_transform(dataframe[\"interest_level\"])\n",
    "    \n",
    "    # Count total # of photos for each listing\n",
    "    if 'photos' in dataframe:\n",
    "        dataframe['num_photos'] = dataframe['photos'].apply(len)\n",
    "    if 'bathrooms' and 'bedrooms' in dataframe:\n",
    "        dataframe['total_rooms'] = dataframe['bathrooms'] + dataframe['bedrooms']"
   ]
  },
  {
   "cell_type": "code",
   "execution_count": 5,
   "metadata": {},
   "outputs": [],
   "source": [
    "convert_dt_numeric(newdf2)"
   ]
  },
  {
   "cell_type": "code",
   "execution_count": 6,
   "metadata": {
    "scrolled": true
   },
   "outputs": [
    {
     "name": "stdout",
     "output_type": "stream",
     "text": [
      "<class 'pandas.core.frame.DataFrame'>\n",
      "Int64Index: 40811 entries, 4 to 124009\n",
      "Data columns (total 20 columns):\n",
      " #   Column               Non-Null Count  Dtype  \n",
      "---  ------               --------------  -----  \n",
      " 0   bathrooms            40811 non-null  float64\n",
      " 1   bedrooms             40811 non-null  int64  \n",
      " 2   building_id          40811 non-null  object \n",
      " 3   created              40811 non-null  object \n",
      " 4   description          40811 non-null  object \n",
      " 5   display_address      40811 non-null  object \n",
      " 6   features             40811 non-null  object \n",
      " 7   latitude             40811 non-null  float64\n",
      " 8   listing_id           40811 non-null  int64  \n",
      " 9   longitude            40811 non-null  float64\n",
      " 10  manager_id           40811 non-null  object \n",
      " 11  photos               40811 non-null  object \n",
      " 12  price                40811 non-null  int64  \n",
      " 13  street_address       40811 non-null  object \n",
      " 14  interest_level       40811 non-null  object \n",
      " 15  text_features_count  40811 non-null  int64  \n",
      " 16  datetime_float       40811 non-null  float64\n",
      " 17  interest_level_code  40811 non-null  int64  \n",
      " 18  num_photos           40811 non-null  int64  \n",
      " 19  total_rooms          40811 non-null  float64\n",
      "dtypes: float64(5), int64(6), object(9)\n",
      "memory usage: 6.5+ MB\n"
     ]
    }
   ],
   "source": [
    "df_numeric = newdf2.copy(deep=True)\n",
    "# df_numeric.drop(['latitude', 'building_id','created','features', 'interest_level','longitude', 'description', 'display_address', \n",
    "#                       'listing_id', 'manager_id', 'photos', 'street_address'], axis = 1, inplace= True)\n",
    "\n",
    "# # plt.figure(figsize=(7,4))\n",
    "# # sns.heatmap(df_numeric.corr(), annot=True, cmap='cubehelix_r')\n",
    "# # plt.show()\n",
    "df_numeric.info()"
   ]
  },
  {
   "cell_type": "markdown",
   "metadata": {},
   "source": [
    "### Feature Selection by Feature Importance"
   ]
  },
  {
   "cell_type": "code",
   "execution_count": 7,
   "metadata": {},
   "outputs": [
    {
     "name": "stdout",
     "output_type": "stream",
     "text": [
      "[0.00857035 0.15913872 0.15689368 0.01551847 0.21969692 0.11406464\n",
      " 0.19857812 0.11362818 0.01391091]\n"
     ]
    },
    {
     "data": {
      "image/png": "[encoded data removed]",
      "text/plain": [
       "<Figure size 432x288 with 1 Axes>"
      ]
     },
     "metadata": {
      "needs_background": "light"
     },
     "output_type": "display_data"
    }
   ],
   "source": [
    "X = df_numeric[['bathrooms','latitude', 'longitude', 'bedrooms', 'price', 'text_features_count', 'datetime_float', 'num_photos', 'total_rooms']]  #independent columns\n",
    "y = df_numeric['interest_level_code'] \n",
    "\n",
    "\n",
    "from sklearn.ensemble import ExtraTreesClassifier\n",
    "import matplotlib.pyplot as plt\n",
    "model = ExtraTreesClassifier()\n",
    "model.fit(X,y)\n",
    "print(model.feature_importances_) #use inbuilt class feature_importances of tree based classifiers\n",
    "\n",
    "#plot graph of feature importances for better visualization\n",
    "feat_importances = pd.Series(model.feature_importances_, index=X.columns)\n",
    "feat_importances.nlargest(10).plot(kind='barh')\n",
    "plt.show()"
   ]
  },
  {
   "cell_type": "markdown",
   "metadata": {},
   "source": [
    "### Feature Selection by Chi2"
   ]
  },
  {
   "cell_type": "code",
   "execution_count": 8,
   "metadata": {},
   "outputs": [
    {
     "name": "stdout",
     "output_type": "stream",
     "text": [
      "                 Specs         Score\n",
      "2                price  1.128768e+06\n",
      "4       datetime_float  5.420127e+04\n",
      "3  text_features_count  4.252944e+02\n",
      "1             bedrooms  1.553803e+02\n",
      "5           num_photos  9.519041e+01\n",
      "6          total_rooms  5.618073e+01\n",
      "0            bathrooms  1.720792e+01\n"
     ]
    }
   ],
   "source": [
    "X = df_numeric[['bathrooms', 'bedrooms', 'price', 'text_features_count', 'datetime_float', 'num_photos', 'total_rooms']]  #independent columns\n",
    "y = df_numeric['interest_level_code'] \n",
    "\n",
    "from sklearn.feature_selection import SelectKBest\n",
    "from sklearn.feature_selection import chi2\n",
    "\n",
    "#apply SelectKBest class to extract top 10 best features\n",
    "bestfeatures = SelectKBest(score_func=chi2, k=7)\n",
    "fit = bestfeatures.fit(X,y)\n",
    "dfscores = pd.DataFrame(fit.scores_)\n",
    "dfcolumns = pd.DataFrame(X.columns)\n",
    "#concat two dataframes for better visualization \n",
    "featureScores = pd.concat([dfcolumns,dfscores],axis=1)\n",
    "featureScores.columns = ['Specs','Score']  #naming the dataframe columns\n",
    "print(featureScores.nlargest(10,'Score'))  #print 10 best featur"
   ]
  },
  {
   "cell_type": "code",
   "execution_count": 9,
   "metadata": {},
   "outputs": [
    {
     "data": {
      "image/png": "[encoded data removed]",
      "text/plain": [
       "<Figure size 504x288 with 2 Axes>"
      ]
     },
     "metadata": {
      "needs_background": "light"
     },
     "output_type": "display_data"
    }
   ],
   "source": [
    "plt.figure(figsize=(7,4))\n",
    "sns.heatmap(X.corr(), annot=True, cmap='cubehelix_r')\n",
    "plt.show()"
   ]
  },
  {
   "cell_type": "code",
   "execution_count": 10,
   "metadata": {},
   "outputs": [
    {
     "data": {
      "text/html": [
       "<div>\n",
       "<style scoped>\n",
       "    .dataframe tbody tr th:only-of-type {\n",
       "        vertical-align: middle;\n",
       "    }\n",
       "\n",
       "    .dataframe tbody tr th {\n",
       "        vertical-align: top;\n",
       "    }\n",
       "\n",
       "    .dataframe thead th {\n",
       "        text-align: right;\n",
       "    }\n",
       "</style>\n",
       "<table border=\"1\" class=\"dataframe\">\n",
       "  <thead>\n",
       "    <tr style=\"text-align: right;\">\n",
       "      <th></th>\n",
       "      <th>bathrooms</th>\n",
       "      <th>bedrooms</th>\n",
       "      <th>building_id</th>\n",
       "      <th>created</th>\n",
       "      <th>description</th>\n",
       "      <th>display_address</th>\n",
       "      <th>features</th>\n",
       "      <th>latitude</th>\n",
       "      <th>listing_id</th>\n",
       "      <th>longitude</th>\n",
       "      <th>manager_id</th>\n",
       "      <th>photos</th>\n",
       "      <th>price</th>\n",
       "      <th>street_address</th>\n",
       "    </tr>\n",
       "  </thead>\n",
       "  <tbody>\n",
       "    <tr>\n",
       "      <th>0</th>\n",
       "      <td>1.0</td>\n",
       "      <td>1</td>\n",
       "      <td>79780be1514f645d7e6be99a3de696c5</td>\n",
       "      <td>2016-06-11 05:29:41</td>\n",
       "      <td>Large with awesome terrace--accessible via bed...</td>\n",
       "      <td>Suffolk Street</td>\n",
       "      <td>[Elevator, Laundry in Building, Laundry in Uni...</td>\n",
       "      <td>40.7185</td>\n",
       "      <td>7142618</td>\n",
       "      <td>-73.9865</td>\n",
       "      <td>b1b1852c416d78d7765d746cb1b8921f</td>\n",
       "      <td>[https://photos.renthop.com/2/7142618_1c45a2c8...</td>\n",
       "      <td>2950</td>\n",
       "      <td>99 Suffolk Street</td>\n",
       "    </tr>\n",
       "  </tbody>\n",
       "</table>\n",
       "</div>"
      ],
      "text/plain": [
       "   bathrooms  bedrooms                       building_id              created  \\\n",
       "0        1.0         1  79780be1514f645d7e6be99a3de696c5  2016-06-11 05:29:41   \n",
       "\n",
       "                                         description display_address  \\\n",
       "0  Large with awesome terrace--accessible via bed...  Suffolk Street   \n",
       "\n",
       "                                            features  latitude  listing_id  \\\n",
       "0  [Elevator, Laundry in Building, Laundry in Uni...   40.7185     7142618   \n",
       "\n",
       "   longitude                        manager_id  \\\n",
       "0   -73.9865  b1b1852c416d78d7765d746cb1b8921f   \n",
       "\n",
       "                                              photos  price     street_address  \n",
       "0  [https://photos.renthop.com/2/7142618_1c45a2c8...   2950  99 Suffolk Street  "
      ]
     },
     "execution_count": 10,
     "metadata": {},
     "output_type": "execute_result"
    }
   ],
   "source": [
    "testDT = pd.read_json(\"./dataset/test.json\") # no interest level. Original\n",
    "testDT.head(1)"
   ]
  },
  {
   "cell_type": "code",
   "execution_count": 11,
   "metadata": {},
   "outputs": [],
   "source": [
    "convert_dt_numeric(testDT)"
   ]
  },
  {
   "cell_type": "code",
   "execution_count": 12,
   "metadata": {},
   "outputs": [
    {
     "data": {
      "text/html": [
       "<div>\n",
       "<style scoped>\n",
       "    .dataframe tbody tr th:only-of-type {\n",
       "        vertical-align: middle;\n",
       "    }\n",
       "\n",
       "    .dataframe tbody tr th {\n",
       "        vertical-align: top;\n",
       "    }\n",
       "\n",
       "    .dataframe thead th {\n",
       "        text-align: right;\n",
       "    }\n",
       "</style>\n",
       "<table border=\"1\" class=\"dataframe\">\n",
       "  <thead>\n",
       "    <tr style=\"text-align: right;\">\n",
       "      <th></th>\n",
       "      <th>bathrooms</th>\n",
       "      <th>bedrooms</th>\n",
       "      <th>building_id</th>\n",
       "      <th>created</th>\n",
       "      <th>description</th>\n",
       "      <th>display_address</th>\n",
       "      <th>features</th>\n",
       "      <th>latitude</th>\n",
       "      <th>listing_id</th>\n",
       "      <th>longitude</th>\n",
       "      <th>manager_id</th>\n",
       "      <th>photos</th>\n",
       "      <th>price</th>\n",
       "      <th>street_address</th>\n",
       "      <th>text_features_count</th>\n",
       "      <th>datetime_float</th>\n",
       "      <th>num_photos</th>\n",
       "      <th>total_rooms</th>\n",
       "    </tr>\n",
       "  </thead>\n",
       "  <tbody>\n",
       "    <tr>\n",
       "      <th>0</th>\n",
       "      <td>1.0</td>\n",
       "      <td>1</td>\n",
       "      <td>79780be1514f645d7e6be99a3de696c5</td>\n",
       "      <td>2016-06-11 05:29:41</td>\n",
       "      <td>Large with awesome terrace--accessible via bed...</td>\n",
       "      <td>Suffolk Street</td>\n",
       "      <td>[Elevator, Laundry in Building, Laundry in Uni...</td>\n",
       "      <td>40.7185</td>\n",
       "      <td>7142618</td>\n",
       "      <td>-73.9865</td>\n",
       "      <td>b1b1852c416d78d7765d746cb1b8921f</td>\n",
       "      <td>[https://photos.renthop.com/2/7142618_1c45a2c8...</td>\n",
       "      <td>2950</td>\n",
       "      <td>99 Suffolk Street</td>\n",
       "      <td>6</td>\n",
       "      <td>1.465648e+09</td>\n",
       "      <td>8</td>\n",
       "      <td>2.0</td>\n",
       "    </tr>\n",
       "  </tbody>\n",
       "</table>\n",
       "</div>"
      ],
      "text/plain": [
       "   bathrooms  bedrooms                       building_id              created  \\\n",
       "0        1.0         1  79780be1514f645d7e6be99a3de696c5  2016-06-11 05:29:41   \n",
       "\n",
       "                                         description display_address  \\\n",
       "0  Large with awesome terrace--accessible via bed...  Suffolk Street   \n",
       "\n",
       "                                            features  latitude  listing_id  \\\n",
       "0  [Elevator, Laundry in Building, Laundry in Uni...   40.7185     7142618   \n",
       "\n",
       "   longitude                        manager_id  \\\n",
       "0   -73.9865  b1b1852c416d78d7765d746cb1b8921f   \n",
       "\n",
       "                                              photos  price  \\\n",
       "0  [https://photos.renthop.com/2/7142618_1c45a2c8...   2950   \n",
       "\n",
       "      street_address  text_features_count  datetime_float  num_photos  \\\n",
       "0  99 Suffolk Street                    6    1.465648e+09           8   \n",
       "\n",
       "   total_rooms  \n",
       "0          2.0  "
      ]
     },
     "execution_count": 12,
     "metadata": {},
     "output_type": "execute_result"
    }
   ],
   "source": [
    "testDT.head(1)"
   ]
  },
  {
   "cell_type": "markdown",
   "metadata": {},
   "source": [
    "# K Nearest Neighbour"
   ]
  },
  {
   "cell_type": "markdown",
   "metadata": {},
   "source": [
    "### Test Dataset"
   ]
  },
  {
   "cell_type": "code",
   "execution_count": null,
   "metadata": {},
   "outputs": [],
   "source": []
  },
  {
   "cell_type": "code",
   "execution_count": 164,
   "metadata": {},
   "outputs": [
    {
     "name": "stdout",
     "output_type": "stream",
     "text": [
      "Accuracy: 1.00 (+/- 0.00)\n"
     ]
    }
   ],
   "source": [
    "from sklearn.model_selection import GridSearchCV\n",
    "from sklearn.neighbors import KNeighborsClassifier\n",
    "\n",
    "# Train model with trainset first and make prediction based on trainset\n",
    "X = df_numeric[['price','datetime_float', 'total_rooms', 'latitude', 'longitude']]\n",
    "y = df_numeric[['interest_level_code']]\n",
    "test_X = testDT[['price','datetime_float', 'total_rooms', 'latitude', 'longitude']]\n",
    "\n",
    "K = np.sqrt(test_X.shape[0])\n",
    "# print(K)\n",
    "knn = KNeighborsClassifier(n_neighbors=80)\n",
    "\n",
    "model.fit(X, np.ravel(y))\n",
    "model_scores = model.score(X, y)\n",
    "\n",
    "print(\"Accuracy: %0.2f (+/- %0.2f)\" % (model_scores.mean(), model_scores.std() * 2))"
   ]
  },
  {
   "cell_type": "markdown",
   "metadata": {},
   "source": [
    "### K-Fold Cross-Validation Datasets"
   ]
  },
  {
   "cell_type": "code",
   "execution_count": 165,
   "metadata": {},
   "outputs": [
    {
     "name": "stdout",
     "output_type": "stream",
     "text": [
      "done fitting...\n",
      "done fitting...\n",
      "done fitting...\n",
      "done fitting...\n",
      "done fitting...\n",
      "Accuracy: 0.8781917983632708  +/- 0.29590282936882206\n"
     ]
    }
   ],
   "source": [
    "# kf = KFold(n_splits=10, shuffle=True)\n",
    "skf = StratifiedKFold(n_splits=5)\n",
    "scores = []\n",
    "\n",
    "# for train_index, test_index in skf.split(initial_train_X,initial_train_y):\n",
    "for train_index, test_index in skf.split(X,y):\n",
    "    X_train, X_test = X[train_index[0]:train_index[-1]], X[test_index[0]:test_index[-1]]\n",
    "    y_train, y_test = y[train_index[0]:train_index[-1]], y[test_index[0]:test_index[-1]]\n",
    "\n",
    "    model.fit(X_train, np.ravel(y_train))\n",
    "    scores.append(model.score(X_test, y_test))\n",
    "    print('done fitting...')\n",
    "    \n",
    "print(\"Accuracy:\",np.mean(scores),\" +/-\",np.std(scores)*2)\n",
    "# print(model.best_score_)\n",
    "# print(model.best_params_)\n"
   ]
  },
  {
   "cell_type": "code",
   "execution_count": 166,
   "metadata": {
    "scrolled": true
   },
   "outputs": [
    {
     "name": "stdout",
     "output_type": "stream",
     "text": [
      "Confusion matrix, without normalization\n",
      "[[ 159  289  192]\n",
      " [ 108 5135  596]\n",
      " [ 140 1320  656]]\n",
      "Normalized confusion matrix\n",
      "[[0.25 0.45 0.3 ]\n",
      " [0.02 0.88 0.1 ]\n",
      " [0.07 0.62 0.31]]\n"
     ]
    },
    {
     "data": {
      "image/png": "[encoded data removed]",
      "text/plain": [
       "<Figure size 432x288 with 2 Axes>"
      ]
     },
     "metadata": {
      "needs_background": "light"
     },
     "output_type": "display_data"
    },
    {
     "data": {
      "image/png": "[encoded data removed]",
      "text/plain": [
       "<Figure size 432x288 with 2 Axes>"
      ]
     },
     "metadata": {
      "needs_background": "light"
     },
     "output_type": "display_data"
    }
   ],
   "source": [
    "from sklearn.metrics import plot_confusion_matrix\n",
    "\n",
    "\n",
    "# X_train, X_test, y_train, y_test = train_test_split(X, y, random_state=0)\n",
    "np.set_printoptions(precision=2)\n",
    "\n",
    "titles_options = [(\"Confusion matrix, without normalization\", None),\n",
    "                  (\"Normalized confusion matrix\", 'true')]\n",
    "for title, normalize in titles_options:\n",
    "    disp = plot_confusion_matrix(model, X_test, y_test,\n",
    "                                 display_labels=[\"high\", \"medium\", \"low\"],\n",
    "                                 cmap=plt.cm.Blues,\n",
    "                                 normalize=normalize)\n",
    "    disp.ax_.set_title(title)\n",
    "\n",
    "    print(title)\n",
    "    print(disp.confusion_matrix)\n",
    "\n",
    "\n",
    "plt.show()\n",
    "    "
   ]
  },
  {
   "cell_type": "code",
   "execution_count": 167,
   "metadata": {},
   "outputs": [
    {
     "data": {
      "text/plain": [
       "0.9564816806498976"
      ]
     },
     "execution_count": 167,
     "metadata": {},
     "output_type": "execute_result"
    }
   ],
   "source": [
    "from sklearn.metrics import log_loss\n",
    "\n",
    "probs_labels = model.predict_proba(X_test) # output: [[p1,p2,p3],[p1,p2,p3]...]\n",
    "log_loss(y_test, probs_labels)"
   ]
  },
  {
   "cell_type": "code",
   "execution_count": 155,
   "metadata": {},
   "outputs": [
    {
     "name": "stdout",
     "output_type": "stream",
     "text": [
      "done exporting csv...\n"
     ]
    }
   ],
   "source": [
    "predicted = model.predict(test_X) \n",
    "probs_labels = model.predict_proba(test_X) # output: [[p1,p2,p3],[p1,p2,p3]...]\n",
    "\n",
    "df_with_ps = testDT.copy(deep=True)\n",
    "df_with_ps['p_0_interest'] = [probs[0] for probs in probs_labels]\n",
    "df_with_ps['p_1_interest'] = [probs[1] for probs in probs_labels]\n",
    "df_with_ps['p_2_interest'] = [probs[2] for probs in probs_labels]\n",
    "df_with_ps['predicted'] = predicted\n",
    "\n",
    "df_with_ps.rename(columns={'p_0_interest': 'high', 'p_1_interest': 'medium', 'p_2_interest': 'low'}, inplace=True)\n",
    "df2csv = df_with_ps[['listing_id', 'high', 'medium','low']]\n",
    "# df2csv.head(5)\n",
    "df2csv.to_csv('kaggleTest.csv', encoding='utf-8', index=False)\n",
    "print('done exporting csv...')"
   ]
  },
  {
   "cell_type": "code",
   "execution_count": null,
   "metadata": {},
   "outputs": [],
   "source": []
  },
  {
   "cell_type": "code",
   "execution_count": null,
   "metadata": {},
   "outputs": [],
   "source": []
  }
 ],
 "metadata": {
  "kernelspec": {
   "display_name": "Python 3",
   "language": "python",
   "name": "python3"
  },
  "language_info": {
   "codemirror_mode": {
    "name": "ipython",
    "version": 3
   },
   "file_extension": ".py",
   "mimetype": "text/x-python",
   "name": "python",
   "nbconvert_exporter": "python",
   "pygments_lexer": "ipython3",
   "version": "3.6.9"
  }
 },
 "nbformat": 4,
 "nbformat_minor": 4
}
