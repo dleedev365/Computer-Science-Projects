{
 "cells": [
  {
   "cell_type": "code",
   "execution_count": 54,
   "metadata": {},
   "outputs": [],
   "source": [
    "\n",
    "import pandas as pd\n",
    "import matplotlib.pyplot as plt\n",
    "import sklearn\n",
    "from sklearn.feature_extraction.text import CountVectorizer\n",
    "from sklearn.feature_extraction.text import TfidfVectorizer\n",
    "import seaborn as sns\n",
    "from collections import Counter \n",
    "import re\n",
    "from scipy import stats\n",
    "import numpy as np\n",
    "from sklearn import linear_model\n",
    "#from sklearn import metrics\n",
    "from sklearn.model_selection import train_test_split\n",
    "import matplotlib.pyplot as plt\n",
    "from sklearn.model_selection import KFold\n",
    "from sklearn.model_selection import cross_val_score\n",
    "from sklearn.feature_selection import SelectFromModel\n",
    "from sklearn.model_selection import ShuffleSplit\n",
    "from sklearn.model_selection import StratifiedKFold\n",
    "from sklearn.model_selection import StratifiedShuffleSplit\n",
    "from sklearn.metrics import confusion_matrix\n",
    "from sklearn.metrics import classification_report\n",
    "from sklearn.metrics import log_loss"
   ]
  },
  {
   "cell_type": "code",
   "execution_count": 2,
   "metadata": {},
   "outputs": [],
   "source": [
    "# Createa new column of the total count of text features for each row\n",
    "def convert_dt_numeric(dataframe):\n",
    "    datetime_float = []\n",
    "    dct = {}\n",
    "    indexes = list(dataframe.index.values.tolist())\n",
    "    text_features_count = []\n",
    "\n",
    "    for index in indexes:\n",
    "        # counting total # of features\n",
    "        if 'features' in dataframe:\n",
    "            values = list(dataframe['features'][index])\n",
    "            text_features_count.append(len(values))\n",
    "\n",
    "        # converting time to float\n",
    "        if 'created' in dataframe:\n",
    "            datetime_obj = datetime.strptime(dataframe['created'][index], '%Y-%m-%d %H:%M:%S') \n",
    "            datetime_sec = time.mktime(datetime_obj.timetuple())\n",
    "            datetime_float.append(datetime_sec)\n",
    "    #     Convert float to datetime obj\n",
    "    #     datetime_obj_after = datetime.fromtimestamp(datetime_sec) \n",
    "    #     print(datetime_obj, \"=>\", datetime_sec, \"=>\", datetime_obj_after)\n",
    "    #     print(type(datetime_sec)) // float\n",
    "    # dct\n",
    "    if 'features' in dataframe:\n",
    "        dataframe['text_features_count'] = text_features_count\n",
    "    if 'created' in dataframe:\n",
    "        dataframe['datetime_float'] = datetime_float\n",
    "\n",
    "    # label interest_level => row : 2, medium : 1, high : 0\n",
    "    if 'interest_level' in dataframe:\n",
    "        lb_make = LabelEncoder()\n",
    "        dataframe[\"interest_level_code\"] = lb_make.fit_transform(dataframe[\"interest_level\"])\n",
    "\n",
    "    # Count total # of photos for each listing\n",
    "    if 'photos' in dataframe:\n",
    "        dataframe['num_photos'] = dataframe['photos'].apply(len)\n",
    "    if 'bathrooms' and 'bedrooms' in dataframe:\n",
    "        dataframe['total_rooms'] = dataframe['bathrooms'] + dataframe['bedrooms']"
   ]
  },
  {
   "cell_type": "markdown",
   "metadata": {},
   "source": [
    "## Remove Outliers, Missing Data, and Irrelevent Features"
   ]
  },
  {
   "cell_type": "code",
   "execution_count": 3,
   "metadata": {},
   "outputs": [
    {
     "data": {
      "text/html": [
       "<div>\n",
       "<style scoped>\n",
       "    .dataframe tbody tr th:only-of-type {\n",
       "        vertical-align: middle;\n",
       "    }\n",
       "\n",
       "    .dataframe tbody tr th {\n",
       "        vertical-align: top;\n",
       "    }\n",
       "\n",
       "    .dataframe thead th {\n",
       "        text-align: right;\n",
       "    }\n",
       "</style>\n",
       "<table border=\"1\" class=\"dataframe\">\n",
       "  <thead>\n",
       "    <tr style=\"text-align: right;\">\n",
       "      <th></th>\n",
       "      <th>bathrooms</th>\n",
       "      <th>bedrooms</th>\n",
       "      <th>building_id</th>\n",
       "      <th>created</th>\n",
       "      <th>description</th>\n",
       "      <th>display_address</th>\n",
       "      <th>features</th>\n",
       "      <th>latitude</th>\n",
       "      <th>listing_id</th>\n",
       "      <th>longitude</th>\n",
       "      <th>manager_id</th>\n",
       "      <th>photos</th>\n",
       "      <th>price</th>\n",
       "      <th>street_address</th>\n",
       "    </tr>\n",
       "  </thead>\n",
       "  <tbody>\n",
       "    <tr>\n",
       "      <th>0</th>\n",
       "      <td>1.0</td>\n",
       "      <td>1</td>\n",
       "      <td>79780be1514f645d7e6be99a3de696c5</td>\n",
       "      <td>2016-06-11 05:29:41</td>\n",
       "      <td>Large with awesome terrace--accessible via bed...</td>\n",
       "      <td>Suffolk Street</td>\n",
       "      <td>[Elevator, Laundry in Building, Laundry in Uni...</td>\n",
       "      <td>40.7185</td>\n",
       "      <td>7142618</td>\n",
       "      <td>-73.9865</td>\n",
       "      <td>b1b1852c416d78d7765d746cb1b8921f</td>\n",
       "      <td>[https://photos.renthop.com/2/7142618_1c45a2c8...</td>\n",
       "      <td>2950</td>\n",
       "      <td>99 Suffolk Street</td>\n",
       "    </tr>\n",
       "  </tbody>\n",
       "</table>\n",
       "</div>"
      ],
      "text/plain": [
       "   bathrooms  bedrooms                       building_id              created  \\\n",
       "0        1.0         1  79780be1514f645d7e6be99a3de696c5  2016-06-11 05:29:41   \n",
       "\n",
       "                                         description display_address  \\\n",
       "0  Large with awesome terrace--accessible via bed...  Suffolk Street   \n",
       "\n",
       "                                            features  latitude  listing_id  \\\n",
       "0  [Elevator, Laundry in Building, Laundry in Uni...   40.7185     7142618   \n",
       "\n",
       "   longitude                        manager_id  \\\n",
       "0   -73.9865  b1b1852c416d78d7765d746cb1b8921f   \n",
       "\n",
       "                                              photos  price     street_address  \n",
       "0  [https://photos.renthop.com/2/7142618_1c45a2c8...   2950  99 Suffolk Street  "
      ]
     },
     "execution_count": 3,
     "metadata": {},
     "output_type": "execute_result"
    }
   ],
   "source": [
    "df2 = pd.read_json(\"./data/train.json\")\n",
    "# df2.head(1)\n",
    "# df2.info()\n",
    "test_json = pd.read_json(\"./data/test.json\")\n",
    "test_json.head(1)"
   ]
  },
  {
   "cell_type": "code",
   "execution_count": 4,
   "metadata": {},
   "outputs": [
    {
     "data": {
      "text/plain": [
       "<matplotlib.axes._subplots.AxesSubplot at 0x7f42d0321490>"
      ]
     },
     "execution_count": 4,
     "metadata": {},
     "output_type": "execute_result"
    },
    {
     "data": {
      "image/png": "[encoded data removed]",
      "text/plain": [
       "<Figure size 432x288 with 2 Axes>"
      ]
     },
     "metadata": {
      "needs_background": "light"
     },
     "output_type": "display_data"
    }
   ],
   "source": [
    "#plt.figure(figsize=(7,4))\n",
    "sns.heatmap(df2.corr(), annot=True, cmap='cubehelix_r')\n",
    "#plt.show()\n",
    "# bathrooms and bedrooms are correlated - 0.53\n",
    "# longitude and latitude are uncorrelated\n",
    "# bathrooms and price are correlated - 0.07\n",
    "# bedrooms and price are correlated - 0.052"
   ]
  },
  {
   "cell_type": "code",
   "execution_count": 5,
   "metadata": {},
   "outputs": [],
   "source": [
    "# Remove Outliers and Drop Empty Fields\n",
    "newdf2 = df2[(df2['description'] != '') & (df2['description'] != '<p><a  website_redacted')]\n",
    "newdf2 = newdf2[newdf2['display_address'] != '']\n",
    "newdf2 = newdf2[newdf2['features'].str.len() > 0]\n",
    "newdf2 = newdf2[(newdf2['interest_level'] == 'low') | (newdf2['interest_level'] == 'medium') | (newdf2['interest_level'] == 'high')]\n",
    "newdf2 = newdf2[(newdf2['price'] != 10) & (newdf2['price'] != 0)]\n",
    "newdf2 = newdf2[newdf2['latitude'] != 0]\n",
    "newdf2 = newdf2[newdf2['longitude'] != 0]\n",
    "# newdf2 = newdf2[newdf2['photos'].str.len() > 0]\n",
    "newdf2 = newdf2[newdf2['street_address'].str.len() > 0]\n",
    "\n",
    "newdf2 = newdf2[(np.abs(stats.zscore(newdf2['bathrooms'])) < 3)]\n",
    "newdf2 = newdf2[(np.abs(stats.zscore(newdf2['bedrooms'])) < 3)]\n",
    "newdf2 = newdf2[(np.abs(stats.zscore(newdf2['latitude'])) < 3)]\n",
    "newdf2 = newdf2[(np.abs(stats.zscore(newdf2['longitude'])) < 3)]\n",
    "newdf2 = newdf2[(np.abs(stats.zscore(newdf2['price'])) < 3)]"
   ]
  },
  {
   "cell_type": "code",
   "execution_count": 6,
   "metadata": {},
   "outputs": [],
   "source": [
    "# indexes = list(newdf2.index.values.tolist())\n",
    "# values = list(newdf2['price'][indexes])\n",
    "    \n",
    "# plt.scatter(indexes, df2['price'][indexes], edgecolor = 'black')\n",
    "# plt.xlabel('indexes')\n",
    "# plt.ylabel('Number of Bedrooms')\n",
    "# plt.show()\n",
    "# newdf2['price'].describe()"
   ]
  },
  {
   "cell_type": "code",
   "execution_count": 7,
   "metadata": {},
   "outputs": [],
   "source": [
    "# newdf2['features'].head(5)"
   ]
  },
  {
   "cell_type": "code",
   "execution_count": 8,
   "metadata": {},
   "outputs": [],
   "source": [
    "# show {index # : {# of features : [list of features]}\n",
    "# dct = {}\n",
    "# indexes = list(newdf2.index.values.tolist())\n",
    "# for index in indexes:\n",
    "#     values = list(newdf2['features'][index])\n",
    "#     feature_info = {}\n",
    "#     feature_count = len(values)\n",
    "# #     print(values)\n",
    "#     dct[index] = feature_info\n",
    "#     feature_info[feature_count] = values\n",
    "# dct"
   ]
  },
  {
   "cell_type": "code",
   "execution_count": 9,
   "metadata": {},
   "outputs": [],
   "source": [
    "# Createa new column of the total count of text features for each row\n",
    "dct = {}\n",
    "indexes = list(newdf2.index.values.tolist())\n",
    "text_features_count = []\n",
    "for index in indexes:\n",
    "    values = list(newdf2['features'][index])\n",
    "    text_features_count.append(len(values))\n",
    "# dct\n",
    "\n",
    "newdf2['text_features_count'] = text_features_count\n",
    "# newdf2.head(8)"
   ]
  },
  {
   "cell_type": "code",
   "execution_count": 10,
   "metadata": {},
   "outputs": [],
   "source": [
    "# label interest_level = row : 2\n",
    "# label interest_level = medium : 1\n",
    "# label interest_level = high : 0\n",
    "from sklearn.preprocessing import LabelEncoder\n",
    "\n",
    "lb_make = LabelEncoder()\n",
    "newdf2[\"interest_level_code\"] = lb_make.fit_transform(newdf2[\"interest_level\"])\n",
    "\n",
    "\n",
    "# newdf2.head(1)"
   ]
  },
  {
   "cell_type": "code",
   "execution_count": 11,
   "metadata": {},
   "outputs": [],
   "source": [
    "import time\n",
    "from datetime import datetime\n",
    "\n",
    "indexes = list(newdf2.index.values.tolist())\n",
    "datetime_float = []\n",
    "for index in indexes:\n",
    "    datetime_obj = datetime.strptime(newdf2['created'][index], '%Y-%m-%d %H:%M:%S') \n",
    "    datetime_sec = time.mktime(datetime_obj.timetuple())\n",
    "    datetime_float.append(datetime_sec)\n",
    "#     Convert float to datetime obj\n",
    "#     datetime_obj_after = datetime.fromtimestamp(datetime_sec) \n",
    "#     print(datetime_obj, \"=>\", datetime_sec, \"=>\", datetime_obj_after)\n",
    "#     print(type(datetime_sec)) // float\n",
    "newdf2['datetime_float'] = datetime_float\n",
    "#newdf2.head(2)\n"
   ]
  },
  {
   "cell_type": "code",
   "execution_count": 12,
   "metadata": {},
   "outputs": [],
   "source": [
    "indexes = list(test_json.index.values.tolist())\n",
    "datetime_float = []\n",
    "for index in indexes:\n",
    "    datetime_obj = datetime.strptime(test_json['created'][index], '%Y-%m-%d %H:%M:%S') \n",
    "    datetime_sec = time.mktime(datetime_obj.timetuple())\n",
    "    datetime_float.append(datetime_sec)\n",
    "#     Convert float to datetime obj\n",
    "#     datetime_obj_after = datetime.fromtimestamp(datetime_sec) \n",
    "#     print(datetime_obj, \"=>\", datetime_sec, \"=>\", datetime_obj_after)\n",
    "#     print(type(datetime_sec)) // float\n",
    "test_json['datetime_float'] = datetime_float\n",
    "#newdf2.head(2)"
   ]
  },
  {
   "cell_type": "code",
   "execution_count": 13,
   "metadata": {},
   "outputs": [],
   "source": [
    "lrdf = newdf2\n",
    "lrdf['num_photos'] = lrdf['photos'].apply(len)\n",
    "lrdf['created'] = pd.to_datetime(lrdf['created'])\n",
    "lrdf['hour'] = lrdf['created'].dt.hour\n",
    "#lrdf.dtypes\n",
    "\n",
    "#lrdf = lrdf.drop(columns=['interest_level', 'building_id', 'created', 'description', 'display_address', 'features', 'latitude', 'listing_id', 'longitude', 'manager_id', 'photos', 'street_address'])\n",
    "lrdf = lrdf.drop(columns=['interest_level', 'building_id', 'description', 'created', 'display_address', 'features', 'datetime_float', 'listing_id', 'manager_id', 'photos', 'street_address'])"
   ]
  },
  {
   "cell_type": "code",
   "execution_count": 14,
   "metadata": {},
   "outputs": [
    {
     "data": {
      "text/plain": [
       "<matplotlib.axes._subplots.AxesSubplot at 0x7f42dbd02110>"
      ]
     },
     "execution_count": 14,
     "metadata": {},
     "output_type": "execute_result"
    },
    {
     "data": {
      "image/png": "[encoded data removed]",
      "text/plain": [
       "<Figure size 432x288 with 2 Axes>"
      ]
     },
     "metadata": {
      "needs_background": "light"
     },
     "output_type": "display_data"
    }
   ],
   "source": [
    "lrdf.head(1)\n",
    "sns.heatmap(lrdf.corr(), annot=True, cmap='cubehelix_r')\n"
   ]
  },
  {
   "cell_type": "markdown",
   "metadata": {},
   "source": [
    "## Logistic Regression Iterations"
   ]
  },
  {
   "cell_type": "code",
   "execution_count": null,
   "metadata": {},
   "outputs": [],
   "source": []
  },
  {
   "cell_type": "code",
   "execution_count": 15,
   "metadata": {},
   "outputs": [
    {
     "data": {
      "text/html": [
       "<div>\n",
       "<style scoped>\n",
       "    .dataframe tbody tr th:only-of-type {\n",
       "        vertical-align: middle;\n",
       "    }\n",
       "\n",
       "    .dataframe tbody tr th {\n",
       "        vertical-align: top;\n",
       "    }\n",
       "\n",
       "    .dataframe thead th {\n",
       "        text-align: right;\n",
       "    }\n",
       "</style>\n",
       "<table border=\"1\" class=\"dataframe\">\n",
       "  <thead>\n",
       "    <tr style=\"text-align: right;\">\n",
       "      <th></th>\n",
       "      <th>bathrooms</th>\n",
       "      <th>bedrooms</th>\n",
       "      <th>price</th>\n",
       "    </tr>\n",
       "  </thead>\n",
       "  <tbody>\n",
       "    <tr>\n",
       "      <th>10000</th>\n",
       "      <td>1.0</td>\n",
       "      <td>2</td>\n",
       "      <td>5465</td>\n",
       "    </tr>\n",
       "  </tbody>\n",
       "</table>\n",
       "</div>"
      ],
      "text/plain": [
       "       bathrooms  bedrooms  price\n",
       "10000        1.0         2   5465"
      ]
     },
     "execution_count": 15,
     "metadata": {},
     "output_type": "execute_result"
    }
   ],
   "source": [
    "y = lrdf['interest_level_code']\n",
    "X = lrdf.drop(columns=['interest_level_code'])\n",
    "\n",
    "#X_alt = X.drop(columns=['text_features_count', 'datetime_float', 'num_photos'])\n",
    "X_alt = X.drop(columns=['text_features_count', 'num_photos', 'latitude', 'longitude', 'hour'])\n",
    "\n",
    "#X_alt['bath_bed'] = X_alt['bathrooms'] + X_alt['bedrooms']\n",
    "\n",
    "#X_alt = X_alt.drop(columns=['bathrooms', 'bedrooms', 'hour'])\n",
    "\n",
    "y.shape, X.shape\n",
    "X_alt.head(1)\n",
    "#sns.heatmap(X_alt.corr(), annot=True, cmap='cubehelix_r')\n"
   ]
  },
  {
   "cell_type": "markdown",
   "metadata": {},
   "source": [
    "## Create Scores"
   ]
  },
  {
   "cell_type": "code",
   "execution_count": 61,
   "metadata": {
    "scrolled": false
   },
   "outputs": [
    {
     "name": "stdout",
     "output_type": "stream",
     "text": [
      "('Accuracy first iteration:', 0.681189, '+/-', 0.012175)\n",
      "('Accuracy second iteration:', 0.682355, '+/-', 4e-05)\n"
     ]
    }
   ],
   "source": [
    "# create model\n",
    "#model = linear_model.LogisticRegression(multi_class='multinomial', solver='newton-cg')\n",
    "#model = linear_model.LogisticRegression(multi_class='multinomial', solver='saga', max_iter=250, penalty='l1', warm_start=True)\n",
    "model = linear_model.LogisticRegression(multi_class='auto') #multi_class='multinomial', solver='newton-cg' )\n",
    "\n",
    "scores = []\n",
    "cv = ShuffleSplit(n_splits=5, test_size=0.20, random_state=0)\n",
    "kf = KFold(n_splits=5, shuffle=False)\n",
    "for train_index, test_index in kf.split(X, y):\n",
    "   \n",
    "    X_train, X_test = X[train_index[0]:train_index[-1]], X[test_index[0]:test_index[-1]]\n",
    "    y_train, y_test = y[train_index[0]:train_index[-1]], y[test_index[0]:test_index[-1]]\n",
    "    model.fit(X_train, np.ravel(y_train))\n",
    "    scores.append(model.score(X_test, y_test))\n",
    "    \n",
    "#scores = cross_val_score(model, X, np.ravel(y), cv=5)\n",
    "print(\"Accuracy first iteration:\", round(np.mean(scores), 6), \"+/-\", round(np.std(scores)*2, 6))\n",
    "\n",
    "\n",
    "# try second model\n",
    "scores2 = []\n",
    "kf = KFold(n_splits=10, shuffle=True)\n",
    "#model2 = linear_model.LogisticRegression(multi_class='multinomial', max_iter=150, solver='saga', penalty='l1') #, class_weight='balanced', warm_start=True)\n",
    "#cv = ShuffleSplit(n_splits=5, test_size=0.20, random_state=0)\n",
    "\n",
    "model2 = linear_model.LogisticRegression(multi_class='multinomial', max_iter=150, solver='saga', penalty='l1', C=0.001, class_weight='balanced', warm_start=True) #, class_weight='balanced', warm_start=True)\n",
    "\n",
    "skf = StratifiedKFold(n_splits=10, shuffle=True, random_state=0)\n",
    "sss = StratifiedShuffleSplit(n_splits=5, test_size=0.2, random_state=0)\n",
    "\n",
    "for train_index, test_index in kf.split(X_alt, y):\n",
    "   \n",
    "    X_train, X_test = X_alt[train_index[0]:train_index[-1]], X_alt[test_index[0]:test_index[-1]]\n",
    "    y_train, y_test = y[train_index[0]:train_index[-1]], y[test_index[0]:test_index[-1]]\n",
    "    model.fit(X_train, y_train)\n",
    "    scores2.append(model.score(X_test, y_test))\n",
    "#scores2 = cross_val_score(model2, X_alt, np.ravel(y), cv=cv)\n",
    "print(\"Accuracy second iteration:\", round(np.mean(scores2), 6), \"+/-\", round(np.std(scores2)*2, 6))\n"
   ]
  },
  {
   "cell_type": "markdown",
   "metadata": {},
   "source": [
    "## Convert Test.json to use with model"
   ]
  },
  {
   "cell_type": "code",
   "execution_count": 17,
   "metadata": {},
   "outputs": [
    {
     "name": "stderr",
     "output_type": "stream",
     "text": [
      "/home/kainoa/.local/lib/python2.7/site-packages/ipykernel_launcher.py:27: SettingWithCopyWarning: \n",
      "A value is trying to be set on a copy of a slice from a DataFrame.\n",
      "Try using .loc[row_indexer,col_indexer] = value instead\n",
      "\n",
      "See the caveats in the documentation: http://pandas.pydata.org/pandas-docs/stable/indexing.html#indexing-view-versus-copy\n",
      "/home/kainoa/.local/lib/python2.7/site-packages/ipykernel_launcher.py:38: SettingWithCopyWarning: \n",
      "A value is trying to be set on a copy of a slice from a DataFrame.\n",
      "Try using .loc[row_indexer,col_indexer] = value instead\n",
      "\n",
      "See the caveats in the documentation: http://pandas.pydata.org/pandas-docs/stable/indexing.html#indexing-view-versus-copy\n"
     ]
    },
    {
     "data": {
      "text/html": [
       "<div>\n",
       "<style scoped>\n",
       "    .dataframe tbody tr th:only-of-type {\n",
       "        vertical-align: middle;\n",
       "    }\n",
       "\n",
       "    .dataframe tbody tr th {\n",
       "        vertical-align: top;\n",
       "    }\n",
       "\n",
       "    .dataframe thead th {\n",
       "        text-align: right;\n",
       "    }\n",
       "</style>\n",
       "<table border=\"1\" class=\"dataframe\">\n",
       "  <thead>\n",
       "    <tr style=\"text-align: right;\">\n",
       "      <th></th>\n",
       "      <th>bathrooms</th>\n",
       "      <th>bedrooms</th>\n",
       "      <th>price</th>\n",
       "    </tr>\n",
       "  </thead>\n",
       "  <tbody>\n",
       "    <tr>\n",
       "      <th>0</th>\n",
       "      <td>1.0</td>\n",
       "      <td>1</td>\n",
       "      <td>2950</td>\n",
       "    </tr>\n",
       "  </tbody>\n",
       "</table>\n",
       "</div>"
      ],
      "text/plain": [
       "   bathrooms  bedrooms  price\n",
       "0        1.0         1   2950"
      ]
     },
     "execution_count": 17,
     "metadata": {},
     "output_type": "execute_result"
    }
   ],
   "source": [
    "#test_json.head(1)\n",
    "test_df = test_json[['bathrooms', 'bedrooms', 'created', 'latitude', 'longitude', 'price', 'datetime_float']]\n",
    "convert_dt_numeric(test_df)\n",
    "#test_df['bath_bed'] = test_df['bathrooms'] + test_df['bedrooms']\n",
    "test_df = test_df.drop(columns=['latitude', 'longitude'])\n",
    "\n",
    "\n",
    "test_df['created'] = pd.to_datetime(test_df['created'])\n",
    "test_df['hour'] = test_df['created'].dt.hour\n",
    "test_df = test_df.drop(columns=['created', 'datetime_float', 'total_rooms', 'hour'])\n",
    "\n",
    "test_df.head(1)"
   ]
  },
  {
   "cell_type": "markdown",
   "metadata": {},
   "source": [
    "### Generate Predictions to Upload to kaggle"
   ]
  },
  {
   "cell_type": "code",
   "execution_count": 18,
   "metadata": {},
   "outputs": [],
   "source": [
    "#for train_index, test_index in kf.split(initial_train_X):\n",
    "#model2.fit(X_alt, y)\n",
    "#probs = model2.predict_proba(test_df)\n",
    "#output = test_json['listing_id']"
   ]
  },
  {
   "cell_type": "code",
   "execution_count": 19,
   "metadata": {},
   "outputs": [
    {
     "name": "stderr",
     "output_type": "stream",
     "text": [
      "/home/kainoa/.local/lib/python2.7/site-packages/sklearn/linear_model/sag.py:334: ConvergenceWarning: The max_iter was reached which means the coef_ did not converge\n",
      "  \"the coef_ did not converge\", ConvergenceWarning)\n"
     ]
    }
   ],
   "source": [
    "model2.fit(X_alt, y)\n",
    "predicted = model2.predict(test_df) \n",
    "probs_labels = model2.predict_proba(test_df) # output: [[p1,p2,p3],[p1,p2,p3]...]\n",
    "\n",
    "df_with_ps = test_json.copy(deep=True)\n",
    "df_with_ps['p_0_interest'] = [probs[0] for probs in probs_labels]\n",
    "df_with_ps['p_1_interest'] = [probs[1] for probs in probs_labels]\n",
    "df_with_ps['p_2_interest'] = [probs[2] for probs in probs_labels]\n",
    "df_with_ps['predicted'] = predicted\n",
    "\n",
    "df_with_ps.rename(columns={'p_0_interest': 'high', 'p_1_interest': 'medium', 'p_2_interest': 'low'}, inplace=True)\n",
    "df2csv = df_with_ps[['listing_id', 'high', 'medium','low']]\n",
    "df2csv.to_csv('kaggle-test-Stratified_5FoldCV_improved_C_0001_G_SCALE.csv', encoding='utf-8', index=False)"
   ]
  },
  {
   "cell_type": "markdown",
   "metadata": {},
   "source": [
    "### Confusion Matrix"
   ]
  },
  {
   "cell_type": "code",
   "execution_count": 52,
   "metadata": {
    "scrolled": true
   },
   "outputs": [
    {
     "data": {
      "image/png": "[encoded data removed]",
      "text/plain": [
       "<Figure size 576x576 with 1 Axes>"
      ]
     },
     "metadata": {
      "needs_background": "light"
     },
     "output_type": "display_data"
    }
   ],
   "source": [
    "#model2.fit(X_alt, y)\n",
    "cm = confusion_matrix(y_test, model2.predict(X_test))\n",
    "fig, ax = plt.subplots(figsize=(8,8))\n",
    "ax.imshow(cm)\n",
    "ax.grid(False)\n",
    "#ax.xaxis.set(ticks=(0, 1), ticklabels=('Predicted 0s', 'Predicted 1s'))\n",
    "#ax.yaxis.set(ticks=(0, 1), ticklabels=('Actual 0s', 'Actual 1s'))\n",
    "#ax.set_ylim(1.5, -0.5)\n",
    "for i in range(3):\n",
    "    for j in range(3):\n",
    "        ax.text(j, i, cm[i, j], ha='center', va='center', color='red')\n",
    "#plt.show()\n",
    "plt.savefig('matrix.png')"
   ]
  },
  {
   "cell_type": "markdown",
   "metadata": {},
   "source": [
    "## Classification report"
   ]
  },
  {
   "cell_type": "code",
   "execution_count": 29,
   "metadata": {},
   "outputs": [
    {
     "name": "stdout",
     "output_type": "stream",
     "text": [
      "              precision    recall  f1-score   support\n",
      "\n",
      "           0       0.00      0.00      0.00      3228\n",
      "           1       0.69      1.00      0.81     29379\n",
      "           2       0.00      0.00      0.00     10138\n",
      "\n",
      "   micro avg       0.69      0.69      0.69     42745\n",
      "   macro avg       0.23      0.33      0.27     42745\n",
      "weighted avg       0.47      0.69      0.56     42745\n",
      "\n"
     ]
    },
    {
     "name": "stderr",
     "output_type": "stream",
     "text": [
      "/home/kainoa/.local/lib/python2.7/site-packages/sklearn/metrics/classification.py:1143: UndefinedMetricWarning: Precision and F-score are ill-defined and being set to 0.0 in labels with no predicted samples.\n",
      "  'precision', 'predicted', average, warn_for)\n"
     ]
    }
   ],
   "source": [
    "print(classification_report(y, model2.predict(X_alt)))"
   ]
  },
  {
   "cell_type": "markdown",
   "metadata": {},
   "source": [
    "## Logloss "
   ]
  },
  {
   "cell_type": "code",
   "execution_count": 60,
   "metadata": {},
   "outputs": [
    {
     "data": {
      "text/plain": [
       "1.0140440106403859"
      ]
     },
     "execution_count": 60,
     "metadata": {},
     "output_type": "execute_result"
    }
   ],
   "source": [
    "#model2.fit(X_alt, y)\n",
    "prob = model2.predict_proba(X_alt)\n",
    "predict_list = log_loss(y, prob)\n",
    "predict_list"
   ]
  },
  {
   "cell_type": "code",
   "execution_count": null,
   "metadata": {},
   "outputs": [],
   "source": []
  }
 ],
 "metadata": {
  "kernelspec": {
   "display_name": "Python 3",
   "language": "python",
   "name": "python3"
  },
  "language_info": {
   "codemirror_mode": {
    "name": "ipython",
    "version": 2
   },
   "file_extension": ".py",
   "mimetype": "text/x-python",
   "name": "python",
   "nbconvert_exporter": "python",
   "pygments_lexer": "ipython2",
   "version": "2.7.17"
  }
 },
 "nbformat": 4,
 "nbformat_minor": 4
}
