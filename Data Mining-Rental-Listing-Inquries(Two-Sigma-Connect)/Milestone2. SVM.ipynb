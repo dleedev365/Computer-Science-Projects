{
 "cells": [
  {
   "cell_type": "code",
   "execution_count": 2,
   "metadata": {},
   "outputs": [],
   "source": [
    "%matplotlib inline\n",
    "import pandas as pd\n",
    "import matplotlib.pyplot as plt\n",
    "from sklearn.feature_extraction.text import CountVectorizer\n",
    "from sklearn.model_selection import KFold\n",
    "import seaborn as sns\n",
    "from sklearn.model_selection import cross_val_score\n",
    "import re\n",
    "from scipy import stats\n",
    "from sklearn import svm\n",
    "from sklearn import decomposition, datasets\n",
    "from sklearn.pipeline import Pipeline\n",
    "import numpy as np\n",
    "from sklearn.preprocessing import LabelEncoder\n",
    "from sklearn.model_selection import StratifiedKFold\n",
    "import time\n",
    "from datetime import datetime"
   ]
  },
  {
   "cell_type": "code",
   "execution_count": 3,
   "metadata": {},
   "outputs": [],
   "source": [
    "df2 = pd.read_json(\"./dataset/train.json\")"
   ]
  },
  {
   "cell_type": "code",
   "execution_count": 4,
   "metadata": {},
   "outputs": [],
   "source": [
    "# Remove Outliers and Drop Empty Fields\n",
    "newdf2 = df2[(df2['description'] != '') & (df2['description'] != '<p><a  website_redacted')]\n",
    "newdf2 = newdf2[newdf2['display_address'] != '']\n",
    "newdf2 = newdf2[newdf2['features'].str.len() > 0]\n",
    "newdf2 = newdf2[(newdf2['interest_level'] == 'low') | (newdf2['interest_level'] == 'medium') | (newdf2['interest_level'] == 'high')]\n",
    "newdf2 = newdf2[(newdf2['price'] != 10) & (newdf2['price'] != 0)]\n",
    "newdf2 = newdf2[newdf2['latitude'] != 0]\n",
    "newdf2 = newdf2[newdf2['longitude'] != 0]\n",
    "newdf2 = newdf2[newdf2['photos'].str.len() > 0]\n",
    "newdf2 = newdf2[newdf2['street_address'].str.len() > 0]\n",
    "\n",
    "newdf2 = newdf2[(np.abs(stats.zscore(newdf2['bathrooms'])) < 3)]\n",
    "newdf2 = newdf2[(np.abs(stats.zscore(newdf2['bedrooms'])) < 3)]\n",
    "newdf2 = newdf2[(np.abs(stats.zscore(newdf2['latitude'])) < 3)]\n",
    "newdf2 = newdf2[(np.abs(stats.zscore(newdf2['longitude'])) < 3)]\n",
    "newdf2 = newdf2[(np.abs(stats.zscore(newdf2['price'])) < 3)]"
   ]
  },
  {
   "cell_type": "code",
   "execution_count": 5,
   "metadata": {},
   "outputs": [],
   "source": [
    "def convert_dt_numeric(dataframe):\n",
    "    datetime_float = []\n",
    "    dct = {}\n",
    "    indexes = list(dataframe.index.values.tolist())\n",
    "    text_features_count = []\n",
    "    \n",
    "    for index in indexes:\n",
    "        # counting total # of features\n",
    "        if 'features' in dataframe:\n",
    "            values = list(dataframe['features'][index])\n",
    "            text_features_count.append(len(values))\n",
    "        \n",
    "        # converting time to float\n",
    "        if 'created' in dataframe:\n",
    "            datetime_obj = datetime.strptime(dataframe['created'][index], '%Y-%m-%d %H:%M:%S') \n",
    "            datetime_sec = time.mktime(datetime_obj.timetuple())\n",
    "            datetime_float.append(datetime_sec)\n",
    "    #     Convert float to datetime obj\n",
    "    #     datetime_obj_after = datetime.fromtimestamp(datetime_sec) \n",
    "    #     print(datetime_obj, \"=>\", datetime_sec, \"=>\", datetime_obj_after)\n",
    "    #     print(type(datetime_sec)) // float\n",
    "    # dct\n",
    "    if 'features' in dataframe:\n",
    "        dataframe['text_features_count'] = text_features_count\n",
    "    if 'created' in dataframe:\n",
    "        dataframe['datetime_float'] = datetime_float\n",
    "\n",
    "    # label interest_level => row : 2, medium : 1, high : 0\n",
    "    if 'interest_level' in dataframe:\n",
    "        lb_make = LabelEncoder()\n",
    "        dataframe[\"interest_level_code\"] = lb_make.fit_transform(dataframe[\"interest_level\"])\n",
    "    \n",
    "    # Count total # of photos for each listing\n",
    "    if 'photos' in dataframe:\n",
    "        dataframe['num_photos'] = dataframe['photos'].apply(len)\n",
    "    if 'bathrooms' and 'bedrooms' in dataframe:\n",
    "        dataframe['total_rooms'] = dataframe['bathrooms'] + dataframe['bedrooms']"
   ]
  },
  {
   "cell_type": "code",
   "execution_count": 6,
   "metadata": {},
   "outputs": [],
   "source": [
    "convert_dt_numeric(newdf2)"
   ]
  },
  {
   "cell_type": "markdown",
   "metadata": {},
   "source": [
    "# Support Vector Machine \n",
    "\n",
    "    - Kernerl: Gaussian radial basis function (RBF)\n",
    "    - Reason: It is a general-purpose kernel; used when there is no prior knowledge about the data."
   ]
  },
  {
   "cell_type": "code",
   "execution_count": 7,
   "metadata": {},
   "outputs": [],
   "source": [
    "df_numeric = newdf2.copy(deep=True)\n",
    "df_numeric.drop(['latitude', 'building_id','created','features', 'interest_level','longitude', 'description', 'display_address', \n",
    "                      'listing_id', 'manager_id', 'photos', 'street_address'], axis = 1, inplace= True)\n",
    "\n",
    "# plt.figure(figsize=(7,4))\n",
    "# sns.heatmap(df_numeric.corr(), annot=True, cmap='cubehelix_r')\n",
    "# plt.show()"
   ]
  },
  {
   "cell_type": "code",
   "execution_count": 8,
   "metadata": {},
   "outputs": [],
   "source": [
    "testDT = pd.read_json(\"./dataset/test.json\") # no interest level. Original "
   ]
  },
  {
   "cell_type": "markdown",
   "metadata": {},
   "source": [
    "## 1) Performance"
   ]
  },
  {
   "cell_type": "markdown",
   "metadata": {},
   "source": [
    "The value of gamma and C should not be very high because it leads to the overfitting or it shouldn’t be very small (underfitting). Thus we need to choose the optimal value of C and Gamma in order to get a good fit.\n",
    "\n",
    "The gamma parameter defines how far the influence of a single training example reaches, with low values meaning ‘far’ and high values meaning ‘close’. The gamma is a parameter for non linear hyperplanes. The higher the gamma value it tries to exactly fit the training data set\n",
    "\n",
    "The C parameter trades off misclassification of training examples against simplicity of the decision surface. A low C makes the decision surface smooth, while a high C aims at classifying all training examples correctly by giving the model freedom to select more samples as support vectors.\n",
    "\n",
    "StratifiedKFold is a variation of k-fold which returns stratified folds: each set contains approximately the same percentage of samples of each target class as the complete set\n"
   ]
  },
  {
   "cell_type": "markdown",
   "metadata": {},
   "source": [
    "### 1.1) Test Dataset"
   ]
  },
  {
   "cell_type": "code",
   "execution_count": 58,
   "metadata": {
    "scrolled": true
   },
   "outputs": [
    {
     "name": "stdout",
     "output_type": "stream",
     "text": [
      "Accuracy: 0.67 (+/- 0.00)\n"
     ]
    }
   ],
   "source": [
    "# Train model with trainset first and make prediction based on trainset\n",
    "X = df_numeric[['bathrooms','bedrooms','price']]\n",
    "y = df_numeric[['interest_level_code']]\n",
    "test_X = testDT[['bathrooms','bedrooms','price']]\n",
    "\n",
    "# C = [0.001, 0.01, 0.1, 1, 10], gammas = [0.001, 0.01, 0.1, 1]\n",
    "model = svm.SVC(C=0.01, probability = True)\n",
    "model.fit(X, np.ravel(y))\n",
    "model_scores = model.score(X, y)\n",
    "print(\"Accuracy: %0.2f (+/- %0.2f)\" % (model_scores.mean(), model_scores.std() * 2))"
   ]
  },
  {
   "cell_type": "code",
   "execution_count": 59,
   "metadata": {},
   "outputs": [],
   "source": [
    "predicted = model.predict(test_X) # output: [?, ?, ?]\n",
    "probs_labels = model.predict_proba(test_X) # output: [[p1,p2,p3],[p1,p2,p3]...]\n",
    "\n",
    "df_with_ps = testDT.copy(deep=True)\n",
    "df_with_ps['p_0_interest'] = [probs[0] for probs in probs_labels]\n",
    "df_with_ps['p_1_interest'] = [probs[1] for probs in probs_labels]\n",
    "df_with_ps['p_2_interest'] = [probs[2] for probs in probs_labels]\n",
    "df_with_ps['predicted'] = predicted\n",
    "\n",
    "df_with_ps.rename(columns={'p_0_interest': 'high', 'p_1_interest': 'medium', 'p_2_interest': 'low'}, inplace=True)\n",
    "df2csv = df_with_ps[['listing_id', 'high', 'medium','low']]\n",
    "df2csv.to_csv('kaggle-test_improved_C_001_Gamma_SCALE.csv', encoding='utf-8', index=False)"
   ]
  },
  {
   "cell_type": "markdown",
   "metadata": {},
   "source": [
    "### 1.2) K-Fold Cross-validation datasets"
   ]
  },
  {
   "cell_type": "code",
   "execution_count": 88,
   "metadata": {
    "scrolled": true
   },
   "outputs": [
    {
     "name": "stdout",
     "output_type": "stream",
     "text": [
      "done splitting\n",
      "done fitting\n",
      "done splitting\n",
      "done fitting\n",
      "done splitting\n",
      "done fitting\n",
      "done splitting\n",
      "done fitting\n",
      "done splitting\n",
      "done fitting\n"
     ]
    }
   ],
   "source": [
    "initial_train_X = df_numeric[['bathrooms','bedrooms','price']]\n",
    "initial_train_y = df_numeric[['interest_level_code']]\n",
    "test_X = testDT[['bathrooms','bedrooms','price']]\n",
    "\n",
    "model = svm.SVC(C=0.001, gamma='scale', probability = True)\n",
    "kf = KFold(n_splits=5, shuffle=False) # shuffle=False => keep the order of dataset consistent\n",
    "# skf = StratifiedKFold(n_splits=10)\n",
    "scores = []\n",
    "\n",
    "# for train_index, test_index in skf.split(initial_train_X,initial_train_y):\n",
    "for train_index, test_index in kf.split(initial_train_X):\n",
    "    X_train, X_test = initial_train_X[train_index[0]:train_index[-1]], initial_train_X[test_index[0]:test_index[-1]]\n",
    "    y_train, y_test = initial_train_y[train_index[0]:train_index[-1]], initial_train_y[test_index[0]:test_index[-1]]\n",
    "    print(\"done splitting\")\n",
    "    \n",
    "    model.fit(X_train, np.ravel(y_train))\n",
    "    scores.append(model.score(X_test, y_test))\n",
    "    print(\"done fitting\")\n",
    "    \n",
    "# print(\"Accuracy:\",np.mean(scores),\" +/-\",np.std(scores)*2)"
   ]
  },
  {
   "cell_type": "code",
   "execution_count": 102,
   "metadata": {},
   "outputs": [],
   "source": [
    "predicted = model.predict(test_X) \n",
    "probs_labels = model.predict_proba(test_X) # output: [[p1,p2,p3],[p1,p2,p3]...]\n",
    "\n",
    "df_with_ps = testDT.copy(deep=True)\n",
    "df_with_ps['p_0_interest'] = [probs[0] for probs in probs_labels]\n",
    "df_with_ps['p_1_interest'] = [probs[1] for probs in probs_labels]\n",
    "df_with_ps['p_2_interest'] = [probs[2] for probs in probs_labels]\n",
    "df_with_ps['predicted'] = predicted\n",
    "\n",
    "df_with_ps.rename(columns={'p_0_interest': 'high', 'p_1_interest': 'medium', 'p_2_interest': 'low'}, inplace=True)\n",
    "df2csv = df_with_ps[['listing_id', 'high', 'medium','low']]\n",
    "df2csv.to_csv('kaggle2test.csv', encoding='utf-8', index=False)"
   ]
  },
  {
   "cell_type": "code",
   "execution_count": 103,
   "metadata": {},
   "outputs": [
    {
     "name": "stdout",
     "output_type": "stream",
     "text": [
      "Confusion matrix, without normalization\n",
      "[[   0  817    0]\n",
      " [   0 6901    0]\n",
      " [   0 2485    0]]\n",
      "Normalized confusion matrix\n",
      "[[0. 1. 0.]\n",
      " [0. 1. 0.]\n",
      " [0. 1. 0.]]\n"
     ]
    },
    {
     "data": {
      "image/png": "[encoded data removed]",
      "text/plain": [
       "<Figure size 432x288 with 2 Axes>"
      ]
     },
     "metadata": {
      "needs_background": "light"
     },
     "output_type": "display_data"
    },
    {
     "data": {
      "image/png": "[encoded data removed]",
      "text/plain": [
       "<Figure size 432x288 with 2 Axes>"
      ]
     },
     "metadata": {
      "needs_background": "light"
     },
     "output_type": "display_data"
    }
   ],
   "source": [
    "from sklearn.metrics import plot_confusion_matrix\n",
    "\n",
    "\n",
    "# X_train, X_test, y_train, y_test = train_test_split(X, y, random_state=0)\n",
    "np.set_printoptions(precision=2)\n",
    "\n",
    "titles_options = [(\"Confusion matrix, without normalization\", None),\n",
    "                  (\"Normalized confusion matrix\", 'true')]\n",
    "for title, normalize in titles_options:\n",
    "    disp = plot_confusion_matrix(model, X_test, y_test,\n",
    "                                 display_labels=[\"high\", \"medium\", \"low\"],\n",
    "                                 cmap=plt.cm.Blues,\n",
    "                                 normalize=normalize)\n",
    "    disp.ax_.set_title(title)\n",
    "\n",
    "    print(title)\n",
    "    print(disp.confusion_matrix)\n",
    "\n",
    "\n",
    "plt.show()\n",
    "    "
   ]
  },
  {
   "cell_type": "code",
   "execution_count": 105,
   "metadata": {},
   "outputs": [
    {
     "data": {
      "text/plain": [
       "1.0077932321670278"
      ]
     },
     "execution_count": 105,
     "metadata": {},
     "output_type": "execute_result"
    }
   ],
   "source": [
    "from sklearn.metrics import log_loss\n",
    "\n",
    "probs_labels = model.predict_proba(X_test) # output: [[p1,p2,p3],[p1,p2,p3]...]\n",
    "log_loss(y_test, probs_labels)"
   ]
  },
  {
   "cell_type": "code",
   "execution_count": null,
   "metadata": {},
   "outputs": [],
   "source": []
  },
  {
   "cell_type": "code",
   "execution_count": null,
   "metadata": {},
   "outputs": [],
   "source": []
  }
 ],
 "metadata": {
  "kernelspec": {
   "display_name": "Python 3",
   "language": "python",
   "name": "python3"
  },
  "language_info": {
   "codemirror_mode": {
    "name": "ipython",
    "version": 3
   },
   "file_extension": ".py",
   "mimetype": "text/x-python",
   "name": "python",
   "nbconvert_exporter": "python",
   "pygments_lexer": "ipython3",
   "version": "3.6.9"
  }
 },
 "nbformat": 4,
 "nbformat_minor": 4
}
