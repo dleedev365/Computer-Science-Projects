{
 "cells": [
  {
   "cell_type": "code",
   "execution_count": 1,
   "metadata": {},
   "outputs": [],
   "source": [
    "import pandas as pd"
   ]
  },
  {
   "cell_type": "code",
   "execution_count": 2,
   "metadata": {},
   "outputs": [],
   "source": [
    "#td = pd.read_json('data/train.json.zip', compression='zip')\n",
    "td = pd.read_json('data/train.json')"
   ]
  },
  {
   "cell_type": "markdown",
   "metadata": {},
   "source": [
    "### Format of data"
   ]
  },
  {
   "cell_type": "code",
   "execution_count": 3,
   "metadata": {
    "scrolled": true
   },
   "outputs": [
    {
     "data": {
      "text/html": [
       "<div>\n",
       "<style scoped>\n",
       "    .dataframe tbody tr th:only-of-type {\n",
       "        vertical-align: middle;\n",
       "    }\n",
       "\n",
       "    .dataframe tbody tr th {\n",
       "        vertical-align: top;\n",
       "    }\n",
       "\n",
       "    .dataframe thead th {\n",
       "        text-align: right;\n",
       "    }\n",
       "</style>\n",
       "<table border=\"1\" class=\"dataframe\">\n",
       "  <thead>\n",
       "    <tr style=\"text-align: right;\">\n",
       "      <th></th>\n",
       "      <th>bathrooms</th>\n",
       "      <th>bedrooms</th>\n",
       "      <th>building_id</th>\n",
       "      <th>created</th>\n",
       "      <th>description</th>\n",
       "      <th>display_address</th>\n",
       "      <th>features</th>\n",
       "      <th>interest_level</th>\n",
       "      <th>latitude</th>\n",
       "      <th>listing_id</th>\n",
       "      <th>longitude</th>\n",
       "      <th>manager_id</th>\n",
       "      <th>photos</th>\n",
       "      <th>price</th>\n",
       "      <th>street_address</th>\n",
       "    </tr>\n",
       "  </thead>\n",
       "  <tbody>\n",
       "    <tr>\n",
       "      <th>10</th>\n",
       "      <td>1.5</td>\n",
       "      <td>3</td>\n",
       "      <td>53a5b119ba8f7b61d4e010512e0dfc85</td>\n",
       "      <td>2016-06-24 07:54:24</td>\n",
       "      <td>A Brand New 3 Bedroom 1.5 bath ApartmentEnjoy ...</td>\n",
       "      <td>Metropolitan Avenue</td>\n",
       "      <td>[]</td>\n",
       "      <td>medium</td>\n",
       "      <td>40.7145</td>\n",
       "      <td>7211212</td>\n",
       "      <td>-73.9425</td>\n",
       "      <td>5ba989232d0489da1b5f2c45f6688adc</td>\n",
       "      <td>[https://photos.renthop.com/2/7211212_1ed4542e...</td>\n",
       "      <td>3000</td>\n",
       "      <td>792 Metropolitan Avenue</td>\n",
       "    </tr>\n",
       "  </tbody>\n",
       "</table>\n",
       "</div>"
      ],
      "text/plain": [
       "    bathrooms  bedrooms                       building_id  \\\n",
       "10        1.5         3  53a5b119ba8f7b61d4e010512e0dfc85   \n",
       "\n",
       "                created                                        description  \\\n",
       "10  2016-06-24 07:54:24  A Brand New 3 Bedroom 1.5 bath ApartmentEnjoy ...   \n",
       "\n",
       "        display_address features interest_level  latitude  listing_id  \\\n",
       "10  Metropolitan Avenue       []         medium   40.7145     7211212   \n",
       "\n",
       "    longitude                        manager_id  \\\n",
       "10   -73.9425  5ba989232d0489da1b5f2c45f6688adc   \n",
       "\n",
       "                                               photos  price  \\\n",
       "10  [https://photos.renthop.com/2/7211212_1ed4542e...   3000   \n",
       "\n",
       "             street_address  \n",
       "10  792 Metropolitan Avenue  "
      ]
     },
     "execution_count": 3,
     "metadata": {},
     "output_type": "execute_result"
    }
   ],
   "source": [
    "td.head(1) # 49352 records\n",
    "#td['interest_level']"
   ]
  },
  {
   "cell_type": "markdown",
   "metadata": {},
   "source": [
    "### Find missing values"
   ]
  },
  {
   "cell_type": "code",
   "execution_count": 4,
   "metadata": {},
   "outputs": [],
   "source": [
    "# find the missing data for each variable\n",
    "\n",
    "# bathrooms\n",
    "\n",
    "bath_series = td[td['bathrooms'] == 0]\n",
    "bath = bath_series['bathrooms']\n",
    "bath_m = bath.count()\n",
    "\n",
    "# bedrooms\n",
    "\n",
    "bed_series = td[td['bedrooms'] == 0]\n",
    "bed = bed_series['bedrooms']\n",
    "bed_m = bed.count()\n",
    "\n",
    "# building id\n",
    "\n",
    "bid_series = td[td['building_id'] == '0']\n",
    "bid = bid_series['building_id']\n",
    "bid_m = bid.count()\n",
    "\n",
    "# created (date)\n",
    "\n",
    "td['created'] = pd.to_datetime(td['created'])\n",
    "#created_series = td[td['created'] == '2016-06-11']\n",
    "#created = created_series['created']\n",
    "created = td['created']\n",
    "created_m = 0 # no missing data\n",
    "\n",
    "# description\n",
    "\n",
    "desc_series = td['description'].str.strip()\n",
    "desc_count1 = desc_series.where(desc_series=='').count()\n",
    "desc_count2 = desc_series.where(desc_series=='<p><a  website_redacted').count()\n",
    "desc_m = desc_count1+desc_count2\n",
    "\n",
    "# display address\n",
    "\n",
    "d_add = td['display_address'].str.strip()\n",
    "d_add_m = d_add.where(d_add=='').count()\n",
    "\n",
    "# features\n",
    "\n",
    "features_series = td['features'].str.len()\n",
    "feat_m = features_series[features_series == 0].count()\n",
    "\n",
    "# interest level\n",
    "\n",
    "intl_series = td['interest_level']\n",
    "filt_low = intl_series == 'low'\n",
    "filt_med = intl_series == 'medium'\n",
    "filt_high = intl_series == 'high'\n",
    "intl_m = intl_series.where(~(filt_low | filt_med | filt_high)).dropna().count()\n",
    "\n",
    "# latitude\n",
    "\n",
    "lat_series = td[td['latitude'] == 0]\n",
    "lat = lat_series['latitude']\n",
    "lat_m = lat.count()\n",
    "\n",
    "# listing id\n",
    "\n",
    "lid_series = td['listing_id']\n",
    "#lid = lid_series['listing_id']\n",
    "\n",
    "# longitude\n",
    "\n",
    "lon_series = td[td['longitude'] == 0]\n",
    "lon = lon_series['longitude']\n",
    "lon_m = lon.count()\n",
    "\n",
    "# manager id\n",
    "\n",
    "#mid_series_1 = td[td['manager_id'] == ' ']\n",
    "#mid_1 = mid_series_1['manager_id']\n",
    "mid = td['manager_id'].str.strip()\n",
    "#mid.where(mid==0).dropna()\n",
    "mid.where(mid=='').dropna()\n",
    "mid_m = mid.count()\n",
    "\n",
    "# photos\n",
    "\n",
    "photo_series = td['photos'].str.len()\n",
    "photos = td['photos']\n",
    "p_m = photo_series[photo_series == 0].count()\n",
    "\n",
    "# price\n",
    "\n",
    "price_series = td[td['price'] == 0]\n",
    "price = price_series['price']\n",
    "\n",
    "# street address\n",
    "\n",
    "s_add = td['street_address'].str.strip()\n",
    "s_m = s_add.where(s_add=='').count()"
   ]
  },
  {
   "cell_type": "markdown",
   "metadata": {},
   "source": [
    "### Missing description data is either a blank string or empty html attribute"
   ]
  },
  {
   "cell_type": "code",
   "execution_count": 5,
   "metadata": {},
   "outputs": [
    {
     "data": {
      "text/plain": [
       "                           3333\n",
       "<p><a  website_redacted     333\n",
       "Name: description, dtype: int64"
      ]
     },
     "execution_count": 5,
     "metadata": {},
     "output_type": "execute_result"
    }
   ],
   "source": [
    "desc_series.value_counts().head(2)"
   ]
  },
  {
   "cell_type": "markdown",
   "metadata": {},
   "source": [
    "### Interest level data is not missing any fields "
   ]
  },
  {
   "cell_type": "code",
   "execution_count": 6,
   "metadata": {},
   "outputs": [
    {
     "data": {
      "text/plain": [
       "low       34284\n",
       "medium    11229\n",
       "high       3839\n",
       "Name: interest_level, dtype: int64"
      ]
     },
     "execution_count": 6,
     "metadata": {},
     "output_type": "execute_result"
    }
   ],
   "source": [
    "intl_series.value_counts(dropna='False')"
   ]
  },
  {
   "cell_type": "markdown",
   "metadata": {},
   "source": [
    "## Output for number of missing data per attribute"
   ]
  },
  {
   "cell_type": "code",
   "execution_count": 8,
   "metadata": {
    "scrolled": true
   },
   "outputs": [
    {
     "data": {
      "text/html": [
       "<div>\n",
       "<style scoped>\n",
       "    .dataframe tbody tr th:only-of-type {\n",
       "        vertical-align: middle;\n",
       "    }\n",
       "\n",
       "    .dataframe tbody tr th {\n",
       "        vertical-align: top;\n",
       "    }\n",
       "\n",
       "    .dataframe thead th {\n",
       "        text-align: right;\n",
       "    }\n",
       "</style>\n",
       "<table border=\"1\" class=\"dataframe\">\n",
       "  <thead>\n",
       "    <tr style=\"text-align: right;\">\n",
       "      <th></th>\n",
       "      <th>bathrooms</th>\n",
       "      <th>bedrooms</th>\n",
       "      <th>building_id</th>\n",
       "      <th>created</th>\n",
       "      <th>description</th>\n",
       "      <th>display_address</th>\n",
       "      <th>features</th>\n",
       "      <th>interest_level</th>\n",
       "      <th>latitude</th>\n",
       "      <th>listing_id</th>\n",
       "      <th>longitude</th>\n",
       "      <th>manager_id</th>\n",
       "      <th>photos</th>\n",
       "      <th>price</th>\n",
       "      <th>street_address</th>\n",
       "    </tr>\n",
       "  </thead>\n",
       "  <tbody>\n",
       "    <tr>\n",
       "      <th>0</th>\n",
       "      <td>313</td>\n",
       "      <td>9475</td>\n",
       "      <td>8286</td>\n",
       "      <td>0</td>\n",
       "      <td>3666</td>\n",
       "      <td>137</td>\n",
       "      <td>3218</td>\n",
       "      <td>0</td>\n",
       "      <td>12</td>\n",
       "      <td>0</td>\n",
       "      <td>12</td>\n",
       "      <td>0</td>\n",
       "      <td>3615</td>\n",
       "      <td>0</td>\n",
       "      <td>10</td>\n",
       "    </tr>\n",
       "  </tbody>\n",
       "</table>\n",
       "</div>"
      ],
      "text/plain": [
       "   bathrooms  bedrooms  building_id  created  description  display_address  \\\n",
       "0        313      9475         8286        0         3666              137   \n",
       "\n",
       "   features  interest_level  latitude  listing_id  longitude  manager_id  \\\n",
       "0      3218               0        12           0         12           0   \n",
       "\n",
       "   photos  price  street_address  \n",
       "0    3615      0              10  "
      ]
     },
     "execution_count": 8,
     "metadata": {},
     "output_type": "execute_result"
    }
   ],
   "source": [
    "d = {'bathrooms': [bath_m],'bedrooms': [bed_m], 'building_id':[bid.count()], 'created':[created_m], 'description':[desc_m], 'display_address':[d_add_m], 'features':[feat_m], 'latitude':[lat.count()], 'longitude':[lon.count()], 'listing_id':[0], 'manager_id':[0], 'photos':[p_m], 'price':[price.count()], 'street_address':[s_m], 'interest_level':[intl_m] }\n",
    "df = pd.DataFrame(data=d)\n",
    "df"
   ]
  },
  {
   "cell_type": "code",
   "execution_count": null,
   "metadata": {},
   "outputs": [],
   "source": []
  }
 ],
 "metadata": {
  "kernelspec": {
   "display_name": "Python 3",
   "language": "python",
   "name": "python3"
  },
  "language_info": {
   "codemirror_mode": {
    "name": "ipython",
    "version": 2
   },
   "file_extension": ".py",
   "mimetype": "text/x-python",
   "name": "python",
   "nbconvert_exporter": "python",
   "pygments_lexer": "ipython2",
   "version": "2.7.17"
  }
 },
 "nbformat": 4,
 "nbformat_minor": 2
}
