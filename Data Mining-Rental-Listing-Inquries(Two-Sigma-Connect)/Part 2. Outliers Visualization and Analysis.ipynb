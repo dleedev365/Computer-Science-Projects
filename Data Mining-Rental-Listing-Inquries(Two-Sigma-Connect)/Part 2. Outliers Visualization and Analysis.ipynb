{
 "cells": [
  {
   "cell_type": "code",
   "execution_count": 1,
   "metadata": {},
   "outputs": [],
   "source": [
    "%matplotlib inline\n",
    "import pandas as pd\n",
    "import matplotlib.pyplot as plt\n",
    "import sklearn\n",
    "import seaborn as sns\n",
    "from scipy import stats\n",
    "import numpy as np"
   ]
  },
  {
   "cell_type": "code",
   "execution_count": 2,
   "metadata": {},
   "outputs": [
    {
     "name": "stdout",
     "output_type": "stream",
     "text": [
      "<class 'pandas.core.frame.DataFrame'>\n",
      "Int64Index: 49352 entries, 4 to 124009\n",
      "Data columns (total 15 columns):\n",
      " #   Column           Non-Null Count  Dtype  \n",
      "---  ------           --------------  -----  \n",
      " 0   bathrooms        49352 non-null  float64\n",
      " 1   bedrooms         49352 non-null  int64  \n",
      " 2   building_id      49352 non-null  object \n",
      " 3   created          49352 non-null  object \n",
      " 4   description      49352 non-null  object \n",
      " 5   display_address  49352 non-null  object \n",
      " 6   features         49352 non-null  object \n",
      " 7   latitude         49352 non-null  float64\n",
      " 8   listing_id       49352 non-null  int64  \n",
      " 9   longitude        49352 non-null  float64\n",
      " 10  manager_id       49352 non-null  object \n",
      " 11  photos           49352 non-null  object \n",
      " 12  price            49352 non-null  int64  \n",
      " 13  street_address   49352 non-null  object \n",
      " 14  interest_level   49352 non-null  object \n",
      "dtypes: float64(3), int64(3), object(9)\n",
      "memory usage: 6.0+ MB\n"
     ]
    }
   ],
   "source": [
    "df2 = pd.read_json(\"./datasets/train.json\")\n",
    "df2.info()"
   ]
  },
  {
   "cell_type": "markdown",
   "metadata": {},
   "source": [
    "# 1. Identify outliers for the \"Bathrooms\" field"
   ]
  },
  {
   "cell_type": "markdown",
   "metadata": {},
   "source": [
    "On the renthop website, users are given the following options to select for features of their properties as shown below:\n",
    "\n",
    "![image.png](https://media.discordapp.net/attachments/664927198523686912/674363960048353300/unknown.png?width=400&height=248)\n",
    "\n",
    "For the number of bedrooms, selecting one of \"Loft\", \"Room/Share\" and \"Studio\" seems to set the number of bedrooms to 0 in our dataset. It is pre-processed by the company, so we make an assumption here. \n",
    "\n",
    "However, the number of bathrooms must be 1+ bath and not contain any decimal place according to their options.\n",
    "\n",
    "Therefore, any listing that has the number of bathrooms equal to 0 is a faulty data and defined as an outlier."
   ]
  },
  {
   "cell_type": "code",
   "execution_count": 3,
   "metadata": {},
   "outputs": [],
   "source": [
    "new_df2 = df2.loc[df2['bathrooms'] > 0]\n",
    "indexes = list(new_df2.index.values.tolist())\n",
    "values = list(new_df2['bathrooms'][indexes])\n",
    "\n",
    "# for index in indexes:\n",
    "#     print(index, \",\", df2['bathrooms'][index])\n",
    "\n",
    "# #testing\n",
    "# new_df2.loc[new_df2['bathrooms'] == 0.5]"
   ]
  },
  {
   "cell_type": "code",
   "execution_count": 4,
   "metadata": {},
   "outputs": [
    {
     "data": {
      "image/png": "[encoded data removed]",
      "text/plain": [
       "<Figure size 432x288 with 1 Axes>"
      ]
     },
     "metadata": {
      "needs_background": "light"
     },
     "output_type": "display_data"
    },
    {
     "data": {
      "text/plain": [
       "count    49039.000000\n",
       "mean         1.219917\n",
       "std          0.493546\n",
       "min          1.000000\n",
       "25%          1.000000\n",
       "50%          1.000000\n",
       "75%          1.000000\n",
       "max         10.000000\n",
       "Name: bathrooms, dtype: float64"
      ]
     },
     "execution_count": 4,
     "metadata": {},
     "output_type": "execute_result"
    }
   ],
   "source": [
    "plt.scatter(indexes, new_df2['bathrooms'][indexes], edgecolor = 'black')\n",
    "plt.xlabel('indexes')\n",
    "plt.ylabel('Number of Bathrooms')\n",
    "plt.show()\n",
    "new_df2['bathrooms'].describe() # 49352 previously /w outliers"
   ]
  },
  {
   "cell_type": "markdown",
   "metadata": {},
   "source": [
    "## 1) Is the one datapoint with 10 bathrooms an outlier?"
   ]
  },
  {
   "cell_type": "code",
   "execution_count": 5,
   "metadata": {
    "scrolled": true
   },
   "outputs": [
    {
     "data": {
      "text/html": [
       "<div>\n",
       "<style scoped>\n",
       "    .dataframe tbody tr th:only-of-type {\n",
       "        vertical-align: middle;\n",
       "    }\n",
       "\n",
       "    .dataframe tbody tr th {\n",
       "        vertical-align: top;\n",
       "    }\n",
       "\n",
       "    .dataframe thead th {\n",
       "        text-align: right;\n",
       "    }\n",
       "</style>\n",
       "<table border=\"1\" class=\"dataframe\">\n",
       "  <thead>\n",
       "    <tr style=\"text-align: right;\">\n",
       "      <th></th>\n",
       "      <th>bathrooms</th>\n",
       "      <th>bedrooms</th>\n",
       "      <th>latitude</th>\n",
       "      <th>listing_id</th>\n",
       "      <th>longitude</th>\n",
       "      <th>price</th>\n",
       "    </tr>\n",
       "  </thead>\n",
       "  <tbody>\n",
       "    <tr>\n",
       "      <th>count</th>\n",
       "      <td>1.0</td>\n",
       "      <td>1.0</td>\n",
       "      <td>1.0000</td>\n",
       "      <td>1.0</td>\n",
       "      <td>1.0000</td>\n",
       "      <td>1.0</td>\n",
       "    </tr>\n",
       "    <tr>\n",
       "      <th>mean</th>\n",
       "      <td>10.0</td>\n",
       "      <td>2.0</td>\n",
       "      <td>40.7633</td>\n",
       "      <td>6849204.0</td>\n",
       "      <td>-73.9849</td>\n",
       "      <td>3600.0</td>\n",
       "    </tr>\n",
       "    <tr>\n",
       "      <th>std</th>\n",
       "      <td>NaN</td>\n",
       "      <td>NaN</td>\n",
       "      <td>NaN</td>\n",
       "      <td>NaN</td>\n",
       "      <td>NaN</td>\n",
       "      <td>NaN</td>\n",
       "    </tr>\n",
       "    <tr>\n",
       "      <th>min</th>\n",
       "      <td>10.0</td>\n",
       "      <td>2.0</td>\n",
       "      <td>40.7633</td>\n",
       "      <td>6849204.0</td>\n",
       "      <td>-73.9849</td>\n",
       "      <td>3600.0</td>\n",
       "    </tr>\n",
       "    <tr>\n",
       "      <th>25%</th>\n",
       "      <td>10.0</td>\n",
       "      <td>2.0</td>\n",
       "      <td>40.7633</td>\n",
       "      <td>6849204.0</td>\n",
       "      <td>-73.9849</td>\n",
       "      <td>3600.0</td>\n",
       "    </tr>\n",
       "    <tr>\n",
       "      <th>50%</th>\n",
       "      <td>10.0</td>\n",
       "      <td>2.0</td>\n",
       "      <td>40.7633</td>\n",
       "      <td>6849204.0</td>\n",
       "      <td>-73.9849</td>\n",
       "      <td>3600.0</td>\n",
       "    </tr>\n",
       "    <tr>\n",
       "      <th>75%</th>\n",
       "      <td>10.0</td>\n",
       "      <td>2.0</td>\n",
       "      <td>40.7633</td>\n",
       "      <td>6849204.0</td>\n",
       "      <td>-73.9849</td>\n",
       "      <td>3600.0</td>\n",
       "    </tr>\n",
       "    <tr>\n",
       "      <th>max</th>\n",
       "      <td>10.0</td>\n",
       "      <td>2.0</td>\n",
       "      <td>40.7633</td>\n",
       "      <td>6849204.0</td>\n",
       "      <td>-73.9849</td>\n",
       "      <td>3600.0</td>\n",
       "    </tr>\n",
       "  </tbody>\n",
       "</table>\n",
       "</div>"
      ],
      "text/plain": [
       "       bathrooms  bedrooms  latitude  listing_id  longitude   price\n",
       "count        1.0       1.0    1.0000         1.0     1.0000     1.0\n",
       "mean        10.0       2.0   40.7633   6849204.0   -73.9849  3600.0\n",
       "std          NaN       NaN       NaN         NaN        NaN     NaN\n",
       "min         10.0       2.0   40.7633   6849204.0   -73.9849  3600.0\n",
       "25%         10.0       2.0   40.7633   6849204.0   -73.9849  3600.0\n",
       "50%         10.0       2.0   40.7633   6849204.0   -73.9849  3600.0\n",
       "75%         10.0       2.0   40.7633   6849204.0   -73.9849  3600.0\n",
       "max         10.0       2.0   40.7633   6849204.0   -73.9849  3600.0"
      ]
     },
     "execution_count": 5,
     "metadata": {},
     "output_type": "execute_result"
    }
   ],
   "source": [
    "new_df2[new_df2['bathrooms'] == 10].describe()"
   ]
  },
  {
   "cell_type": "code",
   "execution_count": 6,
   "metadata": {},
   "outputs": [
    {
     "data": {
      "text/html": [
       "<div>\n",
       "<style scoped>\n",
       "    .dataframe tbody tr th:only-of-type {\n",
       "        vertical-align: middle;\n",
       "    }\n",
       "\n",
       "    .dataframe tbody tr th {\n",
       "        vertical-align: top;\n",
       "    }\n",
       "\n",
       "    .dataframe thead th {\n",
       "        text-align: right;\n",
       "    }\n",
       "</style>\n",
       "<table border=\"1\" class=\"dataframe\">\n",
       "  <thead>\n",
       "    <tr style=\"text-align: right;\">\n",
       "      <th></th>\n",
       "      <th>bathrooms</th>\n",
       "      <th>bedrooms</th>\n",
       "      <th>latitude</th>\n",
       "      <th>listing_id</th>\n",
       "      <th>longitude</th>\n",
       "      <th>price</th>\n",
       "    </tr>\n",
       "  </thead>\n",
       "  <tbody>\n",
       "    <tr>\n",
       "      <th>count</th>\n",
       "      <td>20.0</td>\n",
       "      <td>20.000000</td>\n",
       "      <td>20.000000</td>\n",
       "      <td>2.000000e+01</td>\n",
       "      <td>20.000000</td>\n",
       "      <td>20.000000</td>\n",
       "    </tr>\n",
       "    <tr>\n",
       "      <th>mean</th>\n",
       "      <td>5.0</td>\n",
       "      <td>4.400000</td>\n",
       "      <td>38.723515</td>\n",
       "      <td>7.024429e+06</td>\n",
       "      <td>-70.273665</td>\n",
       "      <td>27214.700000</td>\n",
       "    </tr>\n",
       "    <tr>\n",
       "      <th>std</th>\n",
       "      <td>0.0</td>\n",
       "      <td>0.598243</td>\n",
       "      <td>9.114611</td>\n",
       "      <td>1.383369e+05</td>\n",
       "      <td>16.540716</td>\n",
       "      <td>16313.099522</td>\n",
       "    </tr>\n",
       "    <tr>\n",
       "      <th>min</th>\n",
       "      <td>5.0</td>\n",
       "      <td>4.000000</td>\n",
       "      <td>0.000000</td>\n",
       "      <td>6.812493e+06</td>\n",
       "      <td>-74.011300</td>\n",
       "      <td>9995.000000</td>\n",
       "    </tr>\n",
       "    <tr>\n",
       "      <th>25%</th>\n",
       "      <td>5.0</td>\n",
       "      <td>4.000000</td>\n",
       "      <td>40.751325</td>\n",
       "      <td>6.951518e+06</td>\n",
       "      <td>-73.976475</td>\n",
       "      <td>18624.250000</td>\n",
       "    </tr>\n",
       "    <tr>\n",
       "      <th>50%</th>\n",
       "      <td>5.0</td>\n",
       "      <td>4.000000</td>\n",
       "      <td>40.775950</td>\n",
       "      <td>7.036624e+06</td>\n",
       "      <td>-73.964600</td>\n",
       "      <td>26750.000000</td>\n",
       "    </tr>\n",
       "    <tr>\n",
       "      <th>75%</th>\n",
       "      <td>5.0</td>\n",
       "      <td>5.000000</td>\n",
       "      <td>40.777500</td>\n",
       "      <td>7.114054e+06</td>\n",
       "      <td>-73.963100</td>\n",
       "      <td>28500.000000</td>\n",
       "    </tr>\n",
       "    <tr>\n",
       "      <th>max</th>\n",
       "      <td>5.0</td>\n",
       "      <td>6.000000</td>\n",
       "      <td>40.786000</td>\n",
       "      <td>7.232801e+06</td>\n",
       "      <td>0.000000</td>\n",
       "      <td>85000.000000</td>\n",
       "    </tr>\n",
       "  </tbody>\n",
       "</table>\n",
       "</div>"
      ],
      "text/plain": [
       "       bathrooms   bedrooms   latitude    listing_id  longitude         price\n",
       "count       20.0  20.000000  20.000000  2.000000e+01  20.000000     20.000000\n",
       "mean         5.0   4.400000  38.723515  7.024429e+06 -70.273665  27214.700000\n",
       "std          0.0   0.598243   9.114611  1.383369e+05  16.540716  16313.099522\n",
       "min          5.0   4.000000   0.000000  6.812493e+06 -74.011300   9995.000000\n",
       "25%          5.0   4.000000  40.751325  6.951518e+06 -73.976475  18624.250000\n",
       "50%          5.0   4.000000  40.775950  7.036624e+06 -73.964600  26750.000000\n",
       "75%          5.0   5.000000  40.777500  7.114054e+06 -73.963100  28500.000000\n",
       "max          5.0   6.000000  40.786000  7.232801e+06   0.000000  85000.000000"
      ]
     },
     "execution_count": 6,
     "metadata": {},
     "output_type": "execute_result"
    }
   ],
   "source": [
    "new_df2[new_df2['bathrooms'] == 5].describe()"
   ]
  },
  {
   "cell_type": "markdown",
   "metadata": {},
   "source": [
    "It looks like the listing with \"10 bathrooms\" is a lot cheaper than the min of the listings with \"5 bathrooms\". It looks odd. "
   ]
  },
  {
   "cell_type": "code",
   "execution_count": 7,
   "metadata": {},
   "outputs": [],
   "source": [
    "new_df2 = df2.loc[ (df2['bathrooms'] > 0) & (df2['bathrooms'] != 10)]\n",
    "indexes = list(new_df2.index.values.tolist())\n",
    "values = list(new_df2['bathrooms'][indexes])"
   ]
  },
  {
   "cell_type": "code",
   "execution_count": 8,
   "metadata": {
    "scrolled": true
   },
   "outputs": [
    {
     "data": {
      "image/png": "[encoded data removed]",
      "text/plain": [
       "<Figure size 432x288 with 1 Axes>"
      ]
     },
     "metadata": {
      "needs_background": "light"
     },
     "output_type": "display_data"
    },
    {
     "data": {
      "text/plain": [
       "count    49038.000000\n",
       "mean         1.219738\n",
       "std          0.491956\n",
       "min          1.000000\n",
       "25%          1.000000\n",
       "50%          1.000000\n",
       "75%          1.000000\n",
       "max          7.000000\n",
       "Name: bathrooms, dtype: float64"
      ]
     },
     "execution_count": 8,
     "metadata": {},
     "output_type": "execute_result"
    }
   ],
   "source": [
    "plt.scatter(indexes, new_df2['bathrooms'][indexes], edgecolor = 'black')\n",
    "plt.xlabel('indexes')\n",
    "plt.ylabel('Number of Bathrooms')\n",
    "plt.show()\n",
    "new_df2['bathrooms'].describe() # 49352 previously /w outliers"
   ]
  },
  {
   "cell_type": "code",
   "execution_count": 9,
   "metadata": {},
   "outputs": [
    {
     "name": "stdout",
     "output_type": "stream",
     "text": [
      "Number of outliers: 314\n"
     ]
    }
   ],
   "source": [
    "x = df2['bathrooms'].loc[(df2['bathrooms'] == 0) | (df2['bathrooms'] == 10)].count()\n",
    "print(\"Number of outliers:\", x)"
   ]
  },
  {
   "cell_type": "markdown",
   "metadata": {},
   "source": [
    "## 2) Using Z-score"
   ]
  },
  {
   "cell_type": "code",
   "execution_count": 10,
   "metadata": {},
   "outputs": [
    {
     "name": "stdout",
     "output_type": "stream",
     "text": [
      "Number of outliers: 1035\n"
     ]
    }
   ],
   "source": [
    "z = np.abs(stats.zscore(df2['bathrooms']))\n",
    "threshold = 3\n",
    "y = np.where(z>3)\n",
    "print(\"Number of outliers:\", y[0].size)"
   ]
  },
  {
   "cell_type": "markdown",
   "metadata": {},
   "source": [
    "# 2. Identify outliers for the \"bedrooms\" field"
   ]
  },
  {
   "cell_type": "markdown",
   "metadata": {},
   "source": [
    "As discussed above, we assume that selecting any one of \"Roft\", \"Room/Share\" and \"Studio\" will set the number of bedrooms to 0. So, we keep any row that contains 0 bedroom. "
   ]
  },
  {
   "cell_type": "code",
   "execution_count": 11,
   "metadata": {
    "scrolled": false
   },
   "outputs": [
    {
     "data": {
      "image/png": "[encoded data removed]",
      "text/plain": [
       "<Figure size 432x288 with 1 Axes>"
      ]
     },
     "metadata": {
      "needs_background": "light"
     },
     "output_type": "display_data"
    },
    {
     "data": {
      "text/plain": [
       "count    49352.000000\n",
       "mean         1.541640\n",
       "std          1.115018\n",
       "min          0.000000\n",
       "25%          1.000000\n",
       "50%          1.000000\n",
       "75%          2.000000\n",
       "max          8.000000\n",
       "Name: bedrooms, dtype: float64"
      ]
     },
     "execution_count": 11,
     "metadata": {},
     "output_type": "execute_result"
    }
   ],
   "source": [
    "indexes = list(df2.index.values.tolist())\n",
    "values = list(df2['bedrooms'][indexes])\n",
    "    \n",
    "plt.scatter(indexes, df2['bedrooms'][indexes], edgecolor = 'black')\n",
    "plt.xlabel('indexes')\n",
    "plt.ylabel('Number of Bedrooms')\n",
    "plt.show()\n",
    "df2['bedrooms'].describe()"
   ]
  },
  {
   "cell_type": "markdown",
   "metadata": {},
   "source": [
    "# 1) Try different types of graph to see the distribution of values"
   ]
  },
  {
   "cell_type": "code",
   "execution_count": 12,
   "metadata": {
    "scrolled": true
   },
   "outputs": [
    {
     "data": {
      "text/plain": [
       "<matplotlib.axes._subplots.AxesSubplot at 0x7f67ba13cdd8>"
      ]
     },
     "execution_count": 12,
     "metadata": {},
     "output_type": "execute_result"
    },
    {
     "data": {
      "image/png": "[encoded data removed]",
      "text/plain": [
       "<Figure size 432x288 with 1 Axes>"
      ]
     },
     "metadata": {
      "needs_background": "light"
     },
     "output_type": "display_data"
    }
   ],
   "source": [
    "sns.boxplot(x=df2['bedrooms'])"
   ]
  },
  {
   "cell_type": "markdown",
   "metadata": {},
   "source": [
    "As discussed earlier, we assume selecting any one of \"Roft\", \"Room/Share\" and \"Studio\" will set the number of bedrooms to 0. In the graph above, 0 is in the quartiles of our dataset which means 0 bedroom are valid data. "
   ]
  },
  {
   "cell_type": "code",
   "execution_count": 13,
   "metadata": {
    "scrolled": true
   },
   "outputs": [
    {
     "data": {
      "image/png": "[encoded data removed]",
      "text/plain": [
       "<Figure size 432x288 with 1 Axes>"
      ]
     },
     "metadata": {
      "needs_background": "light"
     },
     "output_type": "display_data"
    }
   ],
   "source": [
    "df3 = df2.loc[df2['bedrooms'] > 3]\n",
    "sns.boxplot(x=df3['bedrooms'])\n",
    "plt.show()"
   ]
  },
  {
   "cell_type": "markdown",
   "metadata": {},
   "source": [
    "we can see most of our bedroom data entries lie between 1 and 2. Any other points above 3 may be outliers as they are no where near the quartiles. We investigated those points by ploting another graph to see their quartiles. It shows a single vertical line, which means they don't have relevance to each other. However, we don't know if they are meaningful - they are factual/valid data."
   ]
  },
  {
   "cell_type": "markdown",
   "metadata": {},
   "source": [
    "## 2) Compare prices"
   ]
  },
  {
   "cell_type": "code",
   "execution_count": 14,
   "metadata": {},
   "outputs": [
    {
     "data": {
      "text/plain": [
       "count      2226.000000\n",
       "mean       7446.745732\n",
       "std        5977.921077\n",
       "min        1025.000000\n",
       "25%        5000.000000\n",
       "50%        6000.000000\n",
       "75%        7495.000000\n",
       "max      100000.000000\n",
       "Name: price, dtype: float64"
      ]
     },
     "execution_count": 14,
     "metadata": {},
     "output_type": "execute_result"
    }
   ],
   "source": [
    "df2['price'].loc[df2['bedrooms'] > 3].describe()"
   ]
  },
  {
   "cell_type": "code",
   "execution_count": 15,
   "metadata": {},
   "outputs": [
    {
     "data": {
      "text/plain": [
       "count    4.712600e+04\n",
       "mean     3.659345e+03\n",
       "std      2.253029e+04\n",
       "min      4.300000e+01\n",
       "25%      2.470000e+03\n",
       "50%      3.095000e+03\n",
       "75%      3.961000e+03\n",
       "max      4.490000e+06\n",
       "Name: price, dtype: float64"
      ]
     },
     "execution_count": 15,
     "metadata": {},
     "output_type": "execute_result"
    }
   ],
   "source": [
    "df2['price'].loc[df2['bedrooms'] <= 3].describe()"
   ]
  },
  {
   "cell_type": "markdown",
   "metadata": {},
   "source": [
    "The mean price of listings with the number of bedrooms above 3 is greater than the mean price of listings with the number of bedrooms below 3. This assures that all \"bedrooms\" values are reasonable, so we should keep all of our data."
   ]
  },
  {
   "cell_type": "code",
   "execution_count": 16,
   "metadata": {},
   "outputs": [
    {
     "name": "stdout",
     "output_type": "stream",
     "text": [
      "Number of outliers: 0\n"
     ]
    }
   ],
   "source": [
    "print(\"Number of outliers:\", 0)"
   ]
  },
  {
   "cell_type": "markdown",
   "metadata": {},
   "source": [
    "## 2) Using Z-score"
   ]
  },
  {
   "cell_type": "code",
   "execution_count": 36,
   "metadata": {},
   "outputs": [
    {
     "name": "stdout",
     "output_type": "stream",
     "text": [
      "Number of outliers: 297\n"
     ]
    }
   ],
   "source": [
    "z = np.abs(stats.zscore(df2['bedrooms']))\n",
    "threshold = 3\n",
    "y = np.where(z>3)\n",
    "print(\"Number of outliers:\", y[0].size)"
   ]
  },
  {
   "cell_type": "markdown",
   "metadata": {},
   "source": [
    "# 3. Identify outliers for the \"building_id\" field"
   ]
  },
  {
   "cell_type": "code",
   "execution_count": 17,
   "metadata": {},
   "outputs": [
    {
     "data": {
      "text/plain": [
       "<matplotlib.axes._subplots.AxesSubplot at 0x7f67ba40f438>"
      ]
     },
     "execution_count": 17,
     "metadata": {},
     "output_type": "execute_result"
    },
    {
     "data": {
      "image/png": "[encoded data removed]",
      "text/plain": [
       "<Figure size 432x288 with 1 Axes>"
      ]
     },
     "metadata": {
      "needs_background": "light"
     },
     "output_type": "display_data"
    }
   ],
   "source": [
    "df2['building_id'].str.len()\n",
    "sns.boxplot(x=df2['building_id'].str.len())"
   ]
  },
  {
   "cell_type": "code",
   "execution_count": 18,
   "metadata": {},
   "outputs": [
    {
     "name": "stdout",
     "output_type": "stream",
     "text": [
      "Number of outliers: 8286\n"
     ]
    }
   ],
   "source": [
    "# print(df2['building_id'].count())\n",
    "print(\"Number of outliers:\",\n",
    "df2['building_id'].loc[df2['building_id'].str.len() != 32].count())\n",
    "\n",
    "# testing\n",
    "# df2.loc[df2['building_id'].str.len() != 32]"
   ]
  },
  {
   "cell_type": "markdown",
   "metadata": {},
   "source": [
    "# 4. Identify outliers for the \"created\" field"
   ]
  },
  {
   "cell_type": "code",
   "execution_count": 19,
   "metadata": {},
   "outputs": [
    {
     "data": {
      "text/plain": [
       "<matplotlib.axes._subplots.AxesSubplot at 0x7f67ba40d3c8>"
      ]
     },
     "execution_count": 19,
     "metadata": {},
     "output_type": "execute_result"
    },
    {
     "data": {
      "image/png": "[encoded data removed]",
      "text/plain": [
       "<Figure size 432x288 with 1 Axes>"
      ]
     },
     "metadata": {
      "needs_background": "light"
     },
     "output_type": "display_data"
    }
   ],
   "source": [
    "sns.boxplot(x=df2['created'].str.len())"
   ]
  },
  {
   "cell_type": "code",
   "execution_count": 20,
   "metadata": {},
   "outputs": [
    {
     "data": {
      "text/plain": [
       "[<matplotlib.lines.Line2D at 0x7f67ba0cf978>]"
      ]
     },
     "execution_count": 20,
     "metadata": {},
     "output_type": "execute_result"
    },
    {
     "data": {
      "image/png": "[encoded data removed]",
      "text/plain": [
       "<Figure size 432x288 with 1 Axes>"
      ]
     },
     "metadata": {
      "needs_background": "light"
     },
     "output_type": "display_data"
    }
   ],
   "source": [
    "x = df2['created'].loc[df2['created'].str.len() == 19]\n",
    "x['dates'] = pd.to_datetime(x, format='%Y-%m-%d %H:%M:%S')\n",
    "y = x['dates']\n",
    "plt.plot(x['dates'].dt.date, x['dates'].dt.hour)"
   ]
  },
  {
   "cell_type": "markdown",
   "metadata": {},
   "source": [
    "Performing the ourlier detection for 'created' attribute is not meaningful. As shown in two graphs above, all dates follow the same format and are of 19 characters in legnth. In addition to that, listings are distingushed by milisecond which means each listing will likely have its own timestamp differentiated by a millisecond. So there's not much meaning of 'created' attribute with respect to the objective of the project."
   ]
  },
  {
   "cell_type": "markdown",
   "metadata": {},
   "source": [
    "## 1) Identify outliers for other non-numeric attributes"
   ]
  },
  {
   "cell_type": "code",
   "execution_count": 21,
   "metadata": {},
   "outputs": [
    {
     "data": {
      "text/plain": [
       "4         Spacious 1 Bedroom 1 Bathroom in Williamsburg!...\n",
       "6         BRAND NEW GUT RENOVATED TRUE 2 BEDROOMFind you...\n",
       "9         **FLEX 2 BEDROOM WITH FULL PRESSURIZED WALL**L...\n",
       "10        A Brand New 3 Bedroom 1.5 bath ApartmentEnjoy ...\n",
       "15        Over-sized Studio w abundant closets. Availabl...\n",
       "                                ...                        \n",
       "124000    There is 700 square feet of recently renovated...\n",
       "124002    2 bedroom apartment with updated kitchen, rece...\n",
       "124004    No Brokers Fee * Never Lived 1 Bedroom 1 Bathr...\n",
       "124008    Wonderful Bright Chelsea 2 Bedroom apartment o...\n",
       "124009    ***PRIME MIDTOWN EAST OFF PARK AVE***TRUE 3 BE...\n",
       "Name: description, Length: 49352, dtype: object"
      ]
     },
     "execution_count": 21,
     "metadata": {},
     "output_type": "execute_result"
    }
   ],
   "source": [
    "df2['description']"
   ]
  },
  {
   "cell_type": "code",
   "execution_count": 22,
   "metadata": {},
   "outputs": [
    {
     "data": {
      "text/plain": [
       "4          145 Borinquen Place\n",
       "6                    East 44th\n",
       "9             East 56th Street\n",
       "10         Metropolitan Avenue\n",
       "15            East 34th Street\n",
       "                  ...         \n",
       "124000            W 171 Street\n",
       "124002                Broadway\n",
       "124004    210 Brighton 15th St\n",
       "124008        West 21st Street\n",
       "124009               E 54th St\n",
       "Name: display_address, Length: 49352, dtype: object"
      ]
     },
     "execution_count": 22,
     "metadata": {},
     "output_type": "execute_result"
    }
   ],
   "source": [
    "df2['display_address']"
   ]
  },
  {
   "cell_type": "code",
   "execution_count": 23,
   "metadata": {},
   "outputs": [
    {
     "data": {
      "text/plain": [
       "4         [Dining Room, Pre-War, Laundry in Building, Di...\n",
       "6         [Doorman, Elevator, Laundry in Building, Dishw...\n",
       "9         [Doorman, Elevator, Laundry in Building, Laund...\n",
       "10                                                       []\n",
       "15        [Doorman, Elevator, Fitness Center, Laundry in...\n",
       "                                ...                        \n",
       "124000              [Elevator, Dishwasher, Hardwood Floors]\n",
       "124002    [Common Outdoor Space, Cats Allowed, Dogs Allo...\n",
       "124004    [Dining Room, Elevator, Pre-War, Laundry in Bu...\n",
       "124008    [Pre-War, Laundry in Unit, Dishwasher, No Fee,...\n",
       "124009    [Dining Room, Elevator, Laundry in Building, D...\n",
       "Name: features, Length: 49352, dtype: object"
      ]
     },
     "execution_count": 23,
     "metadata": {},
     "output_type": "execute_result"
    }
   ],
   "source": [
    "df2['features']"
   ]
  },
  {
   "cell_type": "code",
   "execution_count": 24,
   "metadata": {},
   "outputs": [
    {
     "data": {
      "text/plain": [
       "4         a10db4590843d78c784171a107bdacb4\n",
       "6         955db33477af4f40004820b4aed804a0\n",
       "9         c8b10a317b766204f08e613cef4ce7a0\n",
       "10        5ba989232d0489da1b5f2c45f6688adc\n",
       "15        2c3b41f588fbb5234d8a1e885a436cfa\n",
       "                        ...               \n",
       "124000    a61e21da3ba18c7a3d54cfdcc247e1f8\n",
       "124002    8f90e5e10e8a2d7cf997f016d89230eb\n",
       "124004    a10db4590843d78c784171a107bdacb4\n",
       "124008    c3cd45f4381ac371507090e9ffabea80\n",
       "124009    e90f2ded843cdb2efd65ef47d9fc8029\n",
       "Name: manager_id, Length: 49352, dtype: object"
      ]
     },
     "execution_count": 24,
     "metadata": {},
     "output_type": "execute_result"
    }
   ],
   "source": [
    "df2['manager_id']"
   ]
  },
  {
   "cell_type": "code",
   "execution_count": 25,
   "metadata": {},
   "outputs": [
    {
     "data": {
      "text/plain": [
       "4         [https://photos.renthop.com/2/7170325_3bb5ac84...\n",
       "6         [https://photos.renthop.com/2/7092344_7663c19a...\n",
       "9         [https://photos.renthop.com/2/7158677_c897a134...\n",
       "10        [https://photos.renthop.com/2/7211212_1ed4542e...\n",
       "15        [https://photos.renthop.com/2/7225292_901f1984...\n",
       "                                ...                        \n",
       "124000    [https://photos.renthop.com/2/6824800_0682be16...\n",
       "124002    [https://photos.renthop.com/2/6813268_1e6fcc32...\n",
       "124004    [https://photos.renthop.com/2/6927093_93a52104...\n",
       "124008    [https://photos.renthop.com/2/6892816_1a8d087a...\n",
       "124009    [https://photos.renthop.com/2/6901023_02052d90...\n",
       "Name: photos, Length: 49352, dtype: object"
      ]
     },
     "execution_count": 25,
     "metadata": {},
     "output_type": "execute_result"
    }
   ],
   "source": [
    "df2['photos']"
   ]
  },
  {
   "cell_type": "code",
   "execution_count": 26,
   "metadata": {},
   "outputs": [
    {
     "data": {
      "text/plain": [
       "4             145 Borinquen Place\n",
       "6                   230 East 44th\n",
       "9            405 East 56th Street\n",
       "10        792 Metropolitan Avenue\n",
       "15           340 East 34th Street\n",
       "                   ...           \n",
       "124000           620 W 171 Street\n",
       "124002              3333 Broadway\n",
       "124004       210 Brighton 15th St\n",
       "124008       350 West 21st Street\n",
       "124009              123 E 54th St\n",
       "Name: street_address, Length: 49352, dtype: object"
      ]
     },
     "execution_count": 26,
     "metadata": {},
     "output_type": "execute_result"
    }
   ],
   "source": [
    "df2['street_address']"
   ]
  },
  {
   "cell_type": "code",
   "execution_count": 27,
   "metadata": {},
   "outputs": [
    {
     "data": {
      "text/plain": [
       "4         medium\n",
       "6            low\n",
       "9         medium\n",
       "10        medium\n",
       "15           low\n",
       "           ...  \n",
       "124000       low\n",
       "124002    medium\n",
       "124004    medium\n",
       "124008    medium\n",
       "124009      high\n",
       "Name: interest_level, Length: 49352, dtype: object"
      ]
     },
     "execution_count": 27,
     "metadata": {},
     "output_type": "execute_result"
    }
   ],
   "source": [
    "df2['interest_level']"
   ]
  },
  {
   "cell_type": "markdown",
   "metadata": {},
   "source": [
    "Non-numeric attributes in our dataset are all unique. There's no way to identify one as an outlier as every single one of them has unique values. Even if 'interest_level' has only 3 categories, there's no way to tell any one of those categories is an outlier. There's no boundary among different values."
   ]
  },
  {
   "cell_type": "markdown",
   "metadata": {},
   "source": [
    "# 6. Identify outliers for the \"latitude\" field"
   ]
  },
  {
   "cell_type": "markdown",
   "metadata": {},
   "source": [
    "Lat-long coorditates for cities in United States are in range: \n",
    "- Latitude from 19.50139 to 64.85694\n",
    "- longitude from -161.75583 to -68.01197"
   ]
  },
  {
   "cell_type": "code",
   "execution_count": 28,
   "metadata": {},
   "outputs": [
    {
     "data": {
      "image/png": "[encoded data removed]",
      "text/plain": [
       "<Figure size 432x288 with 1 Axes>"
      ]
     },
     "metadata": {
      "needs_background": "light"
     },
     "output_type": "display_data"
    },
    {
     "data": {
      "text/plain": [
       "count    49340.000000\n",
       "mean        40.751454\n",
       "std          0.063417\n",
       "min         34.012600\n",
       "25%         40.728300\n",
       "50%         40.751800\n",
       "75%         40.774300\n",
       "max         44.883500\n",
       "Name: latitude, dtype: float64"
      ]
     },
     "execution_count": 28,
     "metadata": {},
     "output_type": "execute_result"
    }
   ],
   "source": [
    "x = df2['latitude'].loc[\n",
    "    (df2['latitude'] >= 19.50139) & \n",
    "    (df2['latitude'] <= 64.85694)\n",
    "    ]\n",
    "\n",
    "indexes = list(x.index.values.tolist())\n",
    "values = list(x[indexes])\n",
    "\n",
    "plt.scatter(values,indexes, edgecolor = 'black')\n",
    "plt.xlabel('indexes')\n",
    "plt.ylabel('Number of Bathrooms')\n",
    "plt.show()\n",
    "\n",
    "x.describe()"
   ]
  },
  {
   "cell_type": "markdown",
   "metadata": {},
   "source": [
    "Apart from one data point that is afar, other data points are difficult to identify as outliers. So, we can use z-score to find extreme outliers."
   ]
  },
  {
   "cell_type": "code",
   "execution_count": 29,
   "metadata": {},
   "outputs": [
    {
     "name": "stdout",
     "output_type": "stream",
     "text": [
      "Number of outliers: 18\n"
     ]
    }
   ],
   "source": [
    "# Use Z-score to find outers\n",
    "z = np.abs(stats.zscore(df2['latitude']))\n",
    "threshold = 3\n",
    "y = np.where(z>3)\n",
    "print(\"Number of outliers:\", y[0].size)"
   ]
  },
  {
   "cell_type": "markdown",
   "metadata": {},
   "source": [
    "The resulted arry contains the list of row numbers that have a Z-score higher than 3, which are outliers"
   ]
  },
  {
   "cell_type": "markdown",
   "metadata": {},
   "source": [
    "# 7. Identify outliers for the \"longitude\" field"
   ]
  },
  {
   "cell_type": "code",
   "execution_count": 30,
   "metadata": {},
   "outputs": [
    {
     "data": {
      "image/png": "[encoded data removed]",
      "text/plain": [
       "<Figure size 432x288 with 1 Axes>"
      ]
     },
     "metadata": {
      "needs_background": "light"
     },
     "output_type": "display_data"
    },
    {
     "data": {
      "text/plain": [
       "count    49340.000000\n",
       "mean       -73.973702\n",
       "std          0.239243\n",
       "min       -118.271000\n",
       "25%        -73.991700\n",
       "50%        -73.977900\n",
       "75%        -73.954800\n",
       "max        -70.984600\n",
       "Name: longitude, dtype: float64"
      ]
     },
     "execution_count": 30,
     "metadata": {},
     "output_type": "execute_result"
    }
   ],
   "source": [
    "x = df2['longitude'].loc[\n",
    "    (df2['longitude'] >= -161.75583) & \n",
    "    (df2['longitude'] <= -68.01197)\n",
    "    ]\n",
    "\n",
    "indexes = list(x.index.values.tolist())\n",
    "values = list(x[indexes])\n",
    "\n",
    "plt.scatter(values,indexes, edgecolor = 'black')\n",
    "plt.xlabel('indexes')\n",
    "plt.ylabel('Number of Bathrooms')\n",
    "plt.show()\n",
    "\n",
    "x.describe()"
   ]
  },
  {
   "cell_type": "code",
   "execution_count": 31,
   "metadata": {},
   "outputs": [
    {
     "name": "stdout",
     "output_type": "stream",
     "text": [
      "Number of outliers: 16\n"
     ]
    }
   ],
   "source": [
    "z = np.abs(stats.zscore(df2['longitude']))\n",
    "threshold = 3\n",
    "y = np.where(z>3)\n",
    "print(\"Number of outliers:\", y[0].size)"
   ]
  },
  {
   "cell_type": "code",
   "execution_count": 32,
   "metadata": {},
   "outputs": [
    {
     "data": {
      "text/plain": [
       "<matplotlib.axes._subplots.AxesSubplot at 0x7f67ba0c65f8>"
      ]
     },
     "execution_count": 32,
     "metadata": {},
     "output_type": "execute_result"
    },
    {
     "data": {
      "image/png": "[encoded data removed]",
      "text/plain": [
       "<Figure size 432x288 with 1 Axes>"
      ]
     },
     "metadata": {
      "needs_background": "light"
     },
     "output_type": "display_data"
    }
   ],
   "source": [
    "sns.boxplot(x=df2['price'])"
   ]
  },
  {
   "cell_type": "code",
   "execution_count": 33,
   "metadata": {},
   "outputs": [
    {
     "data": {
      "image/png": "[encoded data removed]",
      "text/plain": [
       "<Figure size 432x288 with 1 Axes>"
      ]
     },
     "metadata": {
      "needs_background": "light"
     },
     "output_type": "display_data"
    },
    {
     "data": {
      "text/plain": [
       "count    4.935200e+04\n",
       "mean     3.830174e+03\n",
       "std      2.206687e+04\n",
       "min      4.300000e+01\n",
       "25%      2.500000e+03\n",
       "50%      3.150000e+03\n",
       "75%      4.100000e+03\n",
       "max      4.490000e+06\n",
       "Name: price, dtype: float64"
      ]
     },
     "execution_count": 33,
     "metadata": {},
     "output_type": "execute_result"
    }
   ],
   "source": [
    "x = df2['price']\n",
    "indexes = list(x.index.values.tolist())\n",
    "values = list(x[indexes])\n",
    "\n",
    "plt.scatter(values,indexes, edgecolor = 'black')\n",
    "plt.xlabel('indexes')\n",
    "plt.ylabel('Number of Bathrooms')\n",
    "plt.show()\n",
    "\n",
    "x.describe()"
   ]
  },
  {
   "cell_type": "code",
   "execution_count": 34,
   "metadata": {},
   "outputs": [
    {
     "name": "stdout",
     "output_type": "stream",
     "text": [
      "Number of outliers: 10\n"
     ]
    }
   ],
   "source": [
    "z = np.abs(stats.zscore(df2['price']))\n",
    "threshold = 3\n",
    "y = np.where(z>3)\n",
    "print(\"Number of outliers:\", y[0].size)"
   ]
  },
  {
   "cell_type": "markdown",
   "metadata": {},
   "source": [
    "# 8. Identify outliers for the \"listing_id\" field"
   ]
  },
  {
   "cell_type": "code",
   "execution_count": 35,
   "metadata": {},
   "outputs": [
    {
     "data": {
      "text/plain": [
       "4         7170325\n",
       "6         7092344\n",
       "9         7158677\n",
       "10        7211212\n",
       "15        7225292\n",
       "           ...   \n",
       "124000    6824800\n",
       "124002    6813268\n",
       "124004    6927093\n",
       "124008    6892816\n",
       "124009    6901023\n",
       "Name: listing_id, Length: 49352, dtype: int64"
      ]
     },
     "execution_count": 35,
     "metadata": {},
     "output_type": "execute_result"
    }
   ],
   "source": [
    "df2['listing_id']"
   ]
  },
  {
   "cell_type": "markdown",
   "metadata": {},
   "source": [
    "Listing_id is also uniquely assigned for each listing. Therefore, outlier detection is meaningless for this attribute"
   ]
  },
  {
   "cell_type": "code",
   "execution_count": null,
   "metadata": {},
   "outputs": [],
   "source": []
  }
 ],
 "metadata": {
  "kernelspec": {
   "display_name": "Python 3",
   "language": "python",
   "name": "python3"
  },
  "language_info": {
   "codemirror_mode": {
    "name": "ipython",
    "version": 3
   },
   "file_extension": ".py",
   "mimetype": "text/x-python",
   "name": "python",
   "nbconvert_exporter": "python",
   "pygments_lexer": "ipython3",
   "version": "3.6.9"
  }
 },
 "nbformat": 4,
 "nbformat_minor": 4
}
