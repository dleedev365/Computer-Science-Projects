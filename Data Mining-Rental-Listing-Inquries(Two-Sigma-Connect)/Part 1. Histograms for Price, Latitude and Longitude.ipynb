{
 "cells": [
  {
   "cell_type": "code",
   "execution_count": 1,
   "metadata": {},
   "outputs": [],
   "source": [
    "import pandas as pd\n",
    "import matplotlib.pyplot as plt\n",
    "import numpy as np"
   ]
  },
  {
   "cell_type": "code",
   "execution_count": 2,
   "metadata": {},
   "outputs": [],
   "source": [
    "df2 = pd.read_json(\"./dataset/train.json\")"
   ]
  },
  {
   "cell_type": "code",
   "execution_count": 3,
   "metadata": {
    "scrolled": true
   },
   "outputs": [
    {
     "data": {
      "text/html": [
       "<div>\n",
       "<style scoped>\n",
       "    .dataframe tbody tr th:only-of-type {\n",
       "        vertical-align: middle;\n",
       "    }\n",
       "\n",
       "    .dataframe tbody tr th {\n",
       "        vertical-align: top;\n",
       "    }\n",
       "\n",
       "    .dataframe thead th {\n",
       "        text-align: right;\n",
       "    }\n",
       "</style>\n",
       "<table border=\"1\" class=\"dataframe\">\n",
       "  <thead>\n",
       "    <tr style=\"text-align: right;\">\n",
       "      <th></th>\n",
       "      <th>bathrooms</th>\n",
       "      <th>bedrooms</th>\n",
       "      <th>building_id</th>\n",
       "      <th>created</th>\n",
       "      <th>description</th>\n",
       "      <th>display_address</th>\n",
       "      <th>features</th>\n",
       "      <th>latitude</th>\n",
       "      <th>listing_id</th>\n",
       "      <th>longitude</th>\n",
       "      <th>manager_id</th>\n",
       "      <th>photos</th>\n",
       "      <th>price</th>\n",
       "      <th>street_address</th>\n",
       "      <th>interest_level</th>\n",
       "      <th>_id</th>\n",
       "    </tr>\n",
       "  </thead>\n",
       "  <tbody>\n",
       "    <tr>\n",
       "      <th>4</th>\n",
       "      <td>1.0</td>\n",
       "      <td>1</td>\n",
       "      <td>8579a0b0d54db803821a35a4a615e97a</td>\n",
       "      <td>2016-06-16 05:55:27</td>\n",
       "      <td>Spacious 1 Bedroom 1 Bathroom in Williamsburg!...</td>\n",
       "      <td>145 Borinquen Place</td>\n",
       "      <td>[Dining Room, Pre-War, Laundry in Building, Di...</td>\n",
       "      <td>40.7108</td>\n",
       "      <td>7170325</td>\n",
       "      <td>-73.9539</td>\n",
       "      <td>a10db4590843d78c784171a107bdacb4</td>\n",
       "      <td>[https://photos.renthop.com/2/7170325_3bb5ac84...</td>\n",
       "      <td>2400</td>\n",
       "      <td>145 Borinquen Place</td>\n",
       "      <td>medium</td>\n",
       "      <td>4</td>\n",
       "    </tr>\n",
       "    <tr>\n",
       "      <th>6</th>\n",
       "      <td>1.0</td>\n",
       "      <td>2</td>\n",
       "      <td>b8e75fc949a6cd8225b455648a951712</td>\n",
       "      <td>2016-06-01 05:44:33</td>\n",
       "      <td>BRAND NEW GUT RENOVATED TRUE 2 BEDROOMFind you...</td>\n",
       "      <td>East 44th</td>\n",
       "      <td>[Doorman, Elevator, Laundry in Building, Dishw...</td>\n",
       "      <td>40.7513</td>\n",
       "      <td>7092344</td>\n",
       "      <td>-73.9722</td>\n",
       "      <td>955db33477af4f40004820b4aed804a0</td>\n",
       "      <td>[https://photos.renthop.com/2/7092344_7663c19a...</td>\n",
       "      <td>3800</td>\n",
       "      <td>230 East 44th</td>\n",
       "      <td>low</td>\n",
       "      <td>6</td>\n",
       "    </tr>\n",
       "  </tbody>\n",
       "</table>\n",
       "</div>"
      ],
      "text/plain": [
       "   bathrooms  bedrooms                       building_id              created  \\\n",
       "4        1.0         1  8579a0b0d54db803821a35a4a615e97a  2016-06-16 05:55:27   \n",
       "6        1.0         2  b8e75fc949a6cd8225b455648a951712  2016-06-01 05:44:33   \n",
       "\n",
       "                                         description      display_address  \\\n",
       "4  Spacious 1 Bedroom 1 Bathroom in Williamsburg!...  145 Borinquen Place   \n",
       "6  BRAND NEW GUT RENOVATED TRUE 2 BEDROOMFind you...            East 44th   \n",
       "\n",
       "                                            features  latitude  listing_id  \\\n",
       "4  [Dining Room, Pre-War, Laundry in Building, Di...   40.7108     7170325   \n",
       "6  [Doorman, Elevator, Laundry in Building, Dishw...   40.7513     7092344   \n",
       "\n",
       "   longitude                        manager_id  \\\n",
       "4   -73.9539  a10db4590843d78c784171a107bdacb4   \n",
       "6   -73.9722  955db33477af4f40004820b4aed804a0   \n",
       "\n",
       "                                              photos  price  \\\n",
       "4  [https://photos.renthop.com/2/7170325_3bb5ac84...   2400   \n",
       "6  [https://photos.renthop.com/2/7092344_7663c19a...   3800   \n",
       "\n",
       "        street_address interest_level  _id  \n",
       "4  145 Borinquen Place         medium    4  \n",
       "6        230 East 44th            low    6  "
      ]
     },
     "execution_count": 3,
     "metadata": {},
     "output_type": "execute_result"
    }
   ],
   "source": [
    "df2['_id'] = df2.index\n",
    "df2.set_index('_id')\n",
    "df2.sort_index()\n",
    "df2.head(2)"
   ]
  },
  {
   "cell_type": "markdown",
   "metadata": {},
   "source": [
    "# 1) Histogram of \"price\""
   ]
  },
  {
   "cell_type": "code",
   "execution_count": 4,
   "metadata": {},
   "outputs": [
    {
     "data": {
      "image/png": "[encoded data removed]",
      "text/plain": [
       "<Figure size 432x288 with 1 Axes>"
      ]
     },
     "metadata": {
      "needs_background": "light"
     },
     "output_type": "display_data"
    },
    {
     "data": {
      "text/plain": [
       "count    4.935200e+04\n",
       "mean     3.830174e+03\n",
       "std      2.206687e+04\n",
       "min      4.300000e+01\n",
       "25%      2.500000e+03\n",
       "50%      3.150000e+03\n",
       "75%      4.100000e+03\n",
       "max      4.490000e+06\n",
       "Name: price, dtype: float64"
      ]
     },
     "execution_count": 4,
     "metadata": {},
     "output_type": "execute_result"
    }
   ],
   "source": [
    "bins = np.linspace(df2['price'].min(), df2['price'].max(), 50)\n",
    "plt.hist(df2['price'], bins )\n",
    "plt.xlabel('price')\n",
    "plt.ylabel('frequency/count')\n",
    "plt.title(\"price distribution\")\n",
    "plt.show()\n",
    "df2['price'].describe()"
   ]
  },
  {
   "cell_type": "code",
   "execution_count": 5,
   "metadata": {},
   "outputs": [
    {
     "data": {
      "image/png": "[encoded data removed]",
      "text/plain": [
       "<Figure size 432x288 with 1 Axes>"
      ]
     },
     "metadata": {
      "needs_background": "light"
     },
     "output_type": "display_data"
    }
   ],
   "source": [
    "plt.scatter(df2['_id'], df2['price'])\n",
    "plt.xlabel('index')\n",
    "plt.ylabel('index')\n",
    "plt.title('price distribution')\n",
    "plt.show()"
   ]
  },
  {
   "cell_type": "markdown",
   "metadata": {},
   "source": [
    "because of ourliers, the historgram is extremely skewed towards those outliers"
   ]
  },
  {
   "cell_type": "markdown",
   "metadata": {},
   "source": [
    "## 1.1) Histogram of prices within 75% "
   ]
  },
  {
   "cell_type": "code",
   "execution_count": 6,
   "metadata": {},
   "outputs": [
    {
     "data": {
      "image/png": "[encoded data removed]",
      "text/plain": [
       "<Figure size 432x288 with 1 Axes>"
      ]
     },
     "metadata": {
      "needs_background": "light"
     },
     "output_type": "display_data"
    },
    {
     "data": {
      "text/plain": [
       "count    37097.000000\n",
       "mean      2808.845891\n",
       "std        664.375558\n",
       "min         43.000000\n",
       "25%       2300.000000\n",
       "50%       2800.000000\n",
       "75%       3325.000000\n",
       "max       4100.000000\n",
       "Name: price, dtype: float64"
      ]
     },
     "execution_count": 6,
     "metadata": {},
     "output_type": "execute_result"
    }
   ],
   "source": [
    "newdf = df2[df2.price <= df2['price'].quantile(0.75)]\n",
    "bins = np.linspace(newdf['price'].min(), newdf['price'].max(), 50)\n",
    "plt.hist(newdf['price'], bins )\n",
    "plt.xlabel('price')\n",
    "plt.ylabel('frequency/count')\n",
    "plt.title(\"price distribution\")\n",
    "plt.show()\n",
    "newdf['price'].describe()"
   ]
  },
  {
   "cell_type": "markdown",
   "metadata": {},
   "source": [
    "When outliers are removed, we can see the distributions of values more clearly"
   ]
  },
  {
   "cell_type": "markdown",
   "metadata": {},
   "source": [
    "# 2) Histogram of \"longitude\""
   ]
  },
  {
   "cell_type": "code",
   "execution_count": 7,
   "metadata": {},
   "outputs": [
    {
     "data": {
      "image/png": "[encoded data removed]",
      "text/plain": [
       "<Figure size 432x288 with 1 Axes>"
      ]
     },
     "metadata": {
      "needs_background": "light"
     },
     "output_type": "display_data"
    },
    {
     "data": {
      "text/plain": [
       "count    49352.000000\n",
       "mean       -73.955716\n",
       "std          1.177912\n",
       "min       -118.271000\n",
       "25%        -73.991700\n",
       "50%        -73.977900\n",
       "75%        -73.954800\n",
       "max          0.000000\n",
       "Name: longitude, dtype: float64"
      ]
     },
     "execution_count": 7,
     "metadata": {},
     "output_type": "execute_result"
    }
   ],
   "source": [
    "bins = np.linspace(df2['longitude'].min(), df2['longitude'].max(), 50)\n",
    "plt.hist(df2['longitude'], bins )\n",
    "plt.xlabel('longitude')\n",
    "plt.ylabel('frequency/count')\n",
    "plt.title(\"longitude distribution\")\n",
    "plt.show()\n",
    "df2['longitude'].describe()"
   ]
  },
  {
   "cell_type": "markdown",
   "metadata": {},
   "source": [
    "Similarly, there seems to be outliers that make the graph skewed."
   ]
  },
  {
   "cell_type": "markdown",
   "metadata": {},
   "source": [
    "## 2.1) Histogram of longitude within 75% "
   ]
  },
  {
   "cell_type": "code",
   "execution_count": 8,
   "metadata": {},
   "outputs": [
    {
     "data": {
      "image/png": "[encoded data removed]",
      "text/plain": [
       "<Figure size 432x288 with 1 Axes>"
      ]
     },
     "metadata": {
      "needs_background": "light"
     },
     "output_type": "display_data"
    },
    {
     "data": {
      "text/plain": [
       "count    37046.000000\n",
       "mean       -73.987467\n",
       "std          0.269446\n",
       "min       -118.271000\n",
       "25%        -73.996300\n",
       "50%        -73.984200\n",
       "75%        -73.973900\n",
       "max        -73.954800\n",
       "Name: longitude, dtype: float64"
      ]
     },
     "execution_count": 8,
     "metadata": {},
     "output_type": "execute_result"
    }
   ],
   "source": [
    "newdf = df2[df2.longitude <= df2['longitude'].quantile(0.75)]\n",
    "bins = np.linspace(newdf['longitude'].min(), newdf['longitude'].max(), 50)\n",
    "plt.hist(newdf['longitude'], bins )\n",
    "plt.xlabel('longitude')\n",
    "plt.ylabel('frequency/count')\n",
    "plt.title(\"longitude distribution\")\n",
    "plt.show()\n",
    "newdf['longitude'].describe()"
   ]
  },
  {
   "cell_type": "markdown",
   "metadata": {},
   "source": [
    "## 2.2) Histogram of longitude within 50% "
   ]
  },
  {
   "cell_type": "code",
   "execution_count": 9,
   "metadata": {},
   "outputs": [
    {
     "data": {
      "image/png": "[encoded data removed]",
      "text/plain": [
       "<Figure size 432x288 with 1 Axes>"
      ]
     },
     "metadata": {
      "needs_background": "light"
     },
     "output_type": "display_data"
    },
    {
     "data": {
      "text/plain": [
       "count    24777.000000\n",
       "mean       -73.997672\n",
       "std          0.328958\n",
       "min       -118.271000\n",
       "25%        -74.002200\n",
       "50%        -73.991700\n",
       "75%        -73.984000\n",
       "max        -73.977900\n",
       "Name: longitude, dtype: float64"
      ]
     },
     "execution_count": 9,
     "metadata": {},
     "output_type": "execute_result"
    }
   ],
   "source": [
    "newdf = df2[df2.longitude <= df2['longitude'].quantile(0.50)]\n",
    "bins = np.linspace(newdf['longitude'].min(), newdf['longitude'].max(), 50)\n",
    "plt.hist(newdf['longitude'], bins )\n",
    "plt.xlabel('longitude')\n",
    "plt.ylabel('frequency/count')\n",
    "plt.title(\"longitude distribution\")\n",
    "plt.show()\n",
    "newdf['longitude'].describe()"
   ]
  },
  {
   "cell_type": "markdown",
   "metadata": {},
   "source": [
    "As you can see, there are large datapoints that have relatively close values. The y-axis shows the count of datapoints that have a specific degree of longitude, x, on x-axis. With this in mind, we assume that a significant number of datapoints are neary -73.984200. The graph below demonstrates our educated guess!"
   ]
  },
  {
   "cell_type": "code",
   "execution_count": 10,
   "metadata": {},
   "outputs": [
    {
     "data": {
      "image/png": "[encoded data removed]",
      "text/plain": [
       "<Figure size 432x288 with 1 Axes>"
      ]
     },
     "metadata": {
      "needs_background": "light"
     },
     "output_type": "display_data"
    },
    {
     "data": {
      "text/plain": [
       "count    24756.000000\n",
       "mean       -73.975782\n",
       "std          0.010537\n",
       "min        -73.991700\n",
       "25%        -73.984300\n",
       "50%        -73.977900\n",
       "75%        -73.967375\n",
       "max        -73.954800\n",
       "Name: longitude, dtype: float64"
      ]
     },
     "execution_count": 10,
     "metadata": {},
     "output_type": "execute_result"
    }
   ],
   "source": [
    "newdf = df2[ (df2.longitude <= df2['longitude'].quantile(0.75)) & (df2.longitude >= df2['longitude'].quantile(0.25))]\n",
    "bins = np.linspace(newdf['longitude'].min(), newdf['longitude'].max(), 50)\n",
    "plt.hist(newdf['longitude'], bins )\n",
    "plt.xlabel('longitude')\n",
    "plt.ylabel('frequency/count')\n",
    "plt.title(\"longitude distribution\")\n",
    "plt.show()\n",
    "newdf['longitude'].describe()"
   ]
  },
  {
   "cell_type": "markdown",
   "metadata": {},
   "source": [
    "# 3) Histogram of \"latitude\""
   ]
  },
  {
   "cell_type": "code",
   "execution_count": 11,
   "metadata": {},
   "outputs": [
    {
     "data": {
      "image/png": "[encoded data removed]",
      "text/plain": [
       "<Figure size 432x288 with 1 Axes>"
      ]
     },
     "metadata": {
      "needs_background": "light"
     },
     "output_type": "display_data"
    },
    {
     "data": {
      "text/plain": [
       "count    49352.000000\n",
       "mean        40.741545\n",
       "std          0.638535\n",
       "min          0.000000\n",
       "25%         40.728300\n",
       "50%         40.751800\n",
       "75%         40.774300\n",
       "max         44.883500\n",
       "Name: latitude, dtype: float64"
      ]
     },
     "execution_count": 11,
     "metadata": {},
     "output_type": "execute_result"
    }
   ],
   "source": [
    "bins = np.linspace(0, df2.loc[:,\"latitude\"].mean(), 50)\n",
    "plt.hist(df2['latitude'], bins)\n",
    "plt.xlabel('latitude')\n",
    "plt.title(\"latitude distribution\")\n",
    "plt.show()\n",
    "df2['latitude'].describe()"
   ]
  },
  {
   "cell_type": "markdown",
   "metadata": {},
   "source": [
    "By looking at the table of value, it shows the similar result as \"longitude\", where a significant number of values are within a specific range. In this case, they are near 40.7."
   ]
  },
  {
   "cell_type": "code",
   "execution_count": 12,
   "metadata": {},
   "outputs": [
    {
     "data": {
      "image/png": "[encoded data removed]",
      "text/plain": [
       "<Figure size 432x288 with 1 Axes>"
      ]
     },
     "metadata": {
      "needs_background": "light"
     },
     "output_type": "display_data"
    },
    {
     "data": {
      "text/plain": [
       "count    24749.000000\n",
       "mean        40.751827\n",
       "std          0.013233\n",
       "min         40.728300\n",
       "25%         40.741100\n",
       "50%         40.751800\n",
       "75%         40.763300\n",
       "max         40.774300\n",
       "Name: latitude, dtype: float64"
      ]
     },
     "execution_count": 12,
     "metadata": {},
     "output_type": "execute_result"
    }
   ],
   "source": [
    "newdf = df2[ (df2.latitude <= df2['latitude'].quantile(0.75)) & (df2.latitude >= df2['latitude'].quantile(0.25))]\n",
    "bins = np.linspace(newdf['latitude'].min(), newdf['latitude'].max(), 50)\n",
    "plt.hist(newdf['latitude'], bins )\n",
    "plt.xlabel('latitude')\n",
    "plt.ylabel('frequency/count')\n",
    "plt.title(\"latitude distribution\")\n",
    "plt.show()\n",
    "newdf['latitude'].describe()"
   ]
  }
 ],
 "metadata": {
  "kernelspec": {
   "display_name": "Python 3",
   "language": "python",
   "name": "python3"
  },
  "language_info": {
   "codemirror_mode": {
    "name": "ipython",
    "version": 3
   },
   "file_extension": ".py",
   "mimetype": "text/x-python",
   "name": "python",
   "nbconvert_exporter": "python",
   "pygments_lexer": "ipython3",
   "version": "3.6.9"
  }
 },
 "nbformat": 4,
 "nbformat_minor": 4
}
